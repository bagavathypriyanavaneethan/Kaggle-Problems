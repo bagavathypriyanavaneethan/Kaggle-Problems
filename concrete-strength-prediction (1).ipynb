{
 "cells": [
  {
   "cell_type": "code",
   "execution_count": 1,
   "metadata": {
    "_cell_guid": "b1076dfc-b9ad-4769-8c92-a6c4dae69d19",
    "_uuid": "8f2839f25d086af736a60e9eeb907d3b93b6e0e5",
    "execution": {
     "iopub.execute_input": "2020-12-01T07:13:19.127077Z",
     "iopub.status.busy": "2020-12-01T07:13:19.126087Z",
     "iopub.status.idle": "2020-12-01T07:13:19.133514Z",
     "shell.execute_reply": "2020-12-01T07:13:19.132710Z"
    },
    "papermill": {
     "duration": 0.045741,
     "end_time": "2020-12-01T07:13:19.133657",
     "exception": false,
     "start_time": "2020-12-01T07:13:19.087916",
     "status": "completed"
    },
    "tags": []
   },
   "outputs": [
    {
     "name": "stdout",
     "output_type": "stream",
     "text": [
      "/kaggle/input/regression-with-neural-networking/concrete_data.csv\n"
     ]
    }
   ],
   "source": [
    "# This Python 3 environment comes with many helpful analytics libraries installed\n",
    "# It is defined by the kaggle/python Docker image: https://github.com/kaggle/docker-python\n",
    "# For example, here's several helpful packages to load\n",
    "\n",
    "import numpy as np # linear algebra\n",
    "import pandas as pd # data processing, CSV file I/O (e.g. pd.read_csv)\n",
    "\n",
    "# Input data files are available in the read-only \"../input/\" directory\n",
    "# For example, running this (by clicking run or pressing Shift+Enter) will list all files under the input directory\n",
    "\n",
    "import os\n",
    "for dirname, _, filenames in os.walk('/kaggle/input'):\n",
    "    for filename in filenames:\n",
    "        print(os.path.join(dirname, filename))\n",
    "\n",
    "# You can write up to 20GB to the current directory (/kaggle/working/) that gets preserved as output when you create a version using \"Save & Run All\" \n",
    "# You can also write temporary files to /kaggle/temp/, but they won't be saved outside of the current session"
   ]
  },
  {
   "cell_type": "code",
   "execution_count": 2,
   "metadata": {
    "_cell_guid": "79c7e3d0-c299-4dcb-8224-4455121ee9b0",
    "_uuid": "d629ff2d2480ee46fbb7e2d37f6b5fab8052498a",
    "execution": {
     "iopub.execute_input": "2020-12-01T07:13:19.200075Z",
     "iopub.status.busy": "2020-12-01T07:13:19.199271Z",
     "iopub.status.idle": "2020-12-01T07:13:19.215946Z",
     "shell.execute_reply": "2020-12-01T07:13:19.215105Z"
    },
    "papermill": {
     "duration": 0.052096,
     "end_time": "2020-12-01T07:13:19.216100",
     "exception": false,
     "start_time": "2020-12-01T07:13:19.164004",
     "status": "completed"
    },
    "tags": []
   },
   "outputs": [],
   "source": [
    "df=pd.read_csv('../input/regression-with-neural-networking/concrete_data.csv')"
   ]
  },
  {
   "cell_type": "code",
   "execution_count": 3,
   "metadata": {
    "execution": {
     "iopub.execute_input": "2020-12-01T07:13:19.296859Z",
     "iopub.status.busy": "2020-12-01T07:13:19.292472Z",
     "iopub.status.idle": "2020-12-01T07:13:19.310138Z",
     "shell.execute_reply": "2020-12-01T07:13:19.309379Z"
    },
    "papermill": {
     "duration": 0.064541,
     "end_time": "2020-12-01T07:13:19.310285",
     "exception": false,
     "start_time": "2020-12-01T07:13:19.245744",
     "status": "completed"
    },
    "tags": []
   },
   "outputs": [
    {
     "data": {
      "text/html": [
       "<div>\n",
       "<style scoped>\n",
       "    .dataframe tbody tr th:only-of-type {\n",
       "        vertical-align: middle;\n",
       "    }\n",
       "\n",
       "    .dataframe tbody tr th {\n",
       "        vertical-align: top;\n",
       "    }\n",
       "\n",
       "    .dataframe thead th {\n",
       "        text-align: right;\n",
       "    }\n",
       "</style>\n",
       "<table border=\"1\" class=\"dataframe\">\n",
       "  <thead>\n",
       "    <tr style=\"text-align: right;\">\n",
       "      <th></th>\n",
       "      <th>Cement</th>\n",
       "      <th>Blast Furnace Slag</th>\n",
       "      <th>Fly Ash</th>\n",
       "      <th>Water</th>\n",
       "      <th>Superplasticizer</th>\n",
       "      <th>Coarse Aggregate</th>\n",
       "      <th>Fine Aggregate</th>\n",
       "      <th>Age</th>\n",
       "      <th>Strength</th>\n",
       "    </tr>\n",
       "  </thead>\n",
       "  <tbody>\n",
       "    <tr>\n",
       "      <th>0</th>\n",
       "      <td>540.0</td>\n",
       "      <td>0.0</td>\n",
       "      <td>0.0</td>\n",
       "      <td>162.0</td>\n",
       "      <td>2.5</td>\n",
       "      <td>1040.0</td>\n",
       "      <td>676.0</td>\n",
       "      <td>28</td>\n",
       "      <td>79.99</td>\n",
       "    </tr>\n",
       "    <tr>\n",
       "      <th>1</th>\n",
       "      <td>540.0</td>\n",
       "      <td>0.0</td>\n",
       "      <td>0.0</td>\n",
       "      <td>162.0</td>\n",
       "      <td>2.5</td>\n",
       "      <td>1055.0</td>\n",
       "      <td>676.0</td>\n",
       "      <td>28</td>\n",
       "      <td>61.89</td>\n",
       "    </tr>\n",
       "    <tr>\n",
       "      <th>2</th>\n",
       "      <td>332.5</td>\n",
       "      <td>142.5</td>\n",
       "      <td>0.0</td>\n",
       "      <td>228.0</td>\n",
       "      <td>0.0</td>\n",
       "      <td>932.0</td>\n",
       "      <td>594.0</td>\n",
       "      <td>270</td>\n",
       "      <td>40.27</td>\n",
       "    </tr>\n",
       "    <tr>\n",
       "      <th>3</th>\n",
       "      <td>332.5</td>\n",
       "      <td>142.5</td>\n",
       "      <td>0.0</td>\n",
       "      <td>228.0</td>\n",
       "      <td>0.0</td>\n",
       "      <td>932.0</td>\n",
       "      <td>594.0</td>\n",
       "      <td>365</td>\n",
       "      <td>41.05</td>\n",
       "    </tr>\n",
       "    <tr>\n",
       "      <th>4</th>\n",
       "      <td>198.6</td>\n",
       "      <td>132.4</td>\n",
       "      <td>0.0</td>\n",
       "      <td>192.0</td>\n",
       "      <td>0.0</td>\n",
       "      <td>978.4</td>\n",
       "      <td>825.5</td>\n",
       "      <td>360</td>\n",
       "      <td>44.30</td>\n",
       "    </tr>\n",
       "  </tbody>\n",
       "</table>\n",
       "</div>"
      ],
      "text/plain": [
       "   Cement  Blast Furnace Slag  Fly Ash  Water  Superplasticizer  \\\n",
       "0   540.0                 0.0      0.0  162.0               2.5   \n",
       "1   540.0                 0.0      0.0  162.0               2.5   \n",
       "2   332.5               142.5      0.0  228.0               0.0   \n",
       "3   332.5               142.5      0.0  228.0               0.0   \n",
       "4   198.6               132.4      0.0  192.0               0.0   \n",
       "\n",
       "   Coarse Aggregate  Fine Aggregate  Age  Strength  \n",
       "0            1040.0           676.0   28     79.99  \n",
       "1            1055.0           676.0   28     61.89  \n",
       "2             932.0           594.0  270     40.27  \n",
       "3             932.0           594.0  365     41.05  \n",
       "4             978.4           825.5  360     44.30  "
      ]
     },
     "execution_count": 3,
     "metadata": {},
     "output_type": "execute_result"
    }
   ],
   "source": [
    "df.head()"
   ]
  },
  {
   "cell_type": "code",
   "execution_count": 4,
   "metadata": {
    "execution": {
     "iopub.execute_input": "2020-12-01T07:13:19.378007Z",
     "iopub.status.busy": "2020-12-01T07:13:19.376965Z",
     "iopub.status.idle": "2020-12-01T07:13:19.381284Z",
     "shell.execute_reply": "2020-12-01T07:13:19.381890Z"
    },
    "papermill": {
     "duration": 0.041024,
     "end_time": "2020-12-01T07:13:19.382050",
     "exception": false,
     "start_time": "2020-12-01T07:13:19.341026",
     "status": "completed"
    },
    "tags": []
   },
   "outputs": [
    {
     "data": {
      "text/plain": [
       "(1030, 9)"
      ]
     },
     "execution_count": 4,
     "metadata": {},
     "output_type": "execute_result"
    }
   ],
   "source": [
    "df.shape"
   ]
  },
  {
   "cell_type": "code",
   "execution_count": 5,
   "metadata": {
    "execution": {
     "iopub.execute_input": "2020-12-01T07:13:19.452974Z",
     "iopub.status.busy": "2020-12-01T07:13:19.450406Z",
     "iopub.status.idle": "2020-12-01T07:13:19.457878Z",
     "shell.execute_reply": "2020-12-01T07:13:19.457141Z"
    },
    "papermill": {
     "duration": 0.044534,
     "end_time": "2020-12-01T07:13:19.458025",
     "exception": false,
     "start_time": "2020-12-01T07:13:19.413491",
     "status": "completed"
    },
    "tags": []
   },
   "outputs": [
    {
     "data": {
      "text/plain": [
       "Cement                0\n",
       "Blast Furnace Slag    0\n",
       "Fly Ash               0\n",
       "Water                 0\n",
       "Superplasticizer      0\n",
       "Coarse Aggregate      0\n",
       "Fine Aggregate        0\n",
       "Age                   0\n",
       "Strength              0\n",
       "dtype: int64"
      ]
     },
     "execution_count": 5,
     "metadata": {},
     "output_type": "execute_result"
    }
   ],
   "source": [
    "df.isnull().sum()"
   ]
  },
  {
   "cell_type": "code",
   "execution_count": 6,
   "metadata": {
    "execution": {
     "iopub.execute_input": "2020-12-01T07:13:19.531395Z",
     "iopub.status.busy": "2020-12-01T07:13:19.530562Z",
     "iopub.status.idle": "2020-12-01T07:13:19.533928Z",
     "shell.execute_reply": "2020-12-01T07:13:19.534507Z"
    },
    "papermill": {
     "duration": 0.043514,
     "end_time": "2020-12-01T07:13:19.534734",
     "exception": false,
     "start_time": "2020-12-01T07:13:19.491220",
     "status": "completed"
    },
    "tags": []
   },
   "outputs": [],
   "source": [
    "x=df.iloc[:,:-1]"
   ]
  },
  {
   "cell_type": "code",
   "execution_count": 7,
   "metadata": {
    "execution": {
     "iopub.execute_input": "2020-12-01T07:13:19.618901Z",
     "iopub.status.busy": "2020-12-01T07:13:19.617774Z",
     "iopub.status.idle": "2020-12-01T07:13:19.623205Z",
     "shell.execute_reply": "2020-12-01T07:13:19.622589Z"
    },
    "papermill": {
     "duration": 0.055464,
     "end_time": "2020-12-01T07:13:19.623374",
     "exception": false,
     "start_time": "2020-12-01T07:13:19.567910",
     "status": "completed"
    },
    "tags": []
   },
   "outputs": [
    {
     "data": {
      "text/html": [
       "<div>\n",
       "<style scoped>\n",
       "    .dataframe tbody tr th:only-of-type {\n",
       "        vertical-align: middle;\n",
       "    }\n",
       "\n",
       "    .dataframe tbody tr th {\n",
       "        vertical-align: top;\n",
       "    }\n",
       "\n",
       "    .dataframe thead th {\n",
       "        text-align: right;\n",
       "    }\n",
       "</style>\n",
       "<table border=\"1\" class=\"dataframe\">\n",
       "  <thead>\n",
       "    <tr style=\"text-align: right;\">\n",
       "      <th></th>\n",
       "      <th>Cement</th>\n",
       "      <th>Blast Furnace Slag</th>\n",
       "      <th>Fly Ash</th>\n",
       "      <th>Water</th>\n",
       "      <th>Superplasticizer</th>\n",
       "      <th>Coarse Aggregate</th>\n",
       "      <th>Fine Aggregate</th>\n",
       "      <th>Age</th>\n",
       "    </tr>\n",
       "  </thead>\n",
       "  <tbody>\n",
       "    <tr>\n",
       "      <th>0</th>\n",
       "      <td>540.0</td>\n",
       "      <td>0.0</td>\n",
       "      <td>0.0</td>\n",
       "      <td>162.0</td>\n",
       "      <td>2.5</td>\n",
       "      <td>1040.0</td>\n",
       "      <td>676.0</td>\n",
       "      <td>28</td>\n",
       "    </tr>\n",
       "    <tr>\n",
       "      <th>1</th>\n",
       "      <td>540.0</td>\n",
       "      <td>0.0</td>\n",
       "      <td>0.0</td>\n",
       "      <td>162.0</td>\n",
       "      <td>2.5</td>\n",
       "      <td>1055.0</td>\n",
       "      <td>676.0</td>\n",
       "      <td>28</td>\n",
       "    </tr>\n",
       "    <tr>\n",
       "      <th>2</th>\n",
       "      <td>332.5</td>\n",
       "      <td>142.5</td>\n",
       "      <td>0.0</td>\n",
       "      <td>228.0</td>\n",
       "      <td>0.0</td>\n",
       "      <td>932.0</td>\n",
       "      <td>594.0</td>\n",
       "      <td>270</td>\n",
       "    </tr>\n",
       "    <tr>\n",
       "      <th>3</th>\n",
       "      <td>332.5</td>\n",
       "      <td>142.5</td>\n",
       "      <td>0.0</td>\n",
       "      <td>228.0</td>\n",
       "      <td>0.0</td>\n",
       "      <td>932.0</td>\n",
       "      <td>594.0</td>\n",
       "      <td>365</td>\n",
       "    </tr>\n",
       "    <tr>\n",
       "      <th>4</th>\n",
       "      <td>198.6</td>\n",
       "      <td>132.4</td>\n",
       "      <td>0.0</td>\n",
       "      <td>192.0</td>\n",
       "      <td>0.0</td>\n",
       "      <td>978.4</td>\n",
       "      <td>825.5</td>\n",
       "      <td>360</td>\n",
       "    </tr>\n",
       "  </tbody>\n",
       "</table>\n",
       "</div>"
      ],
      "text/plain": [
       "   Cement  Blast Furnace Slag  Fly Ash  Water  Superplasticizer  \\\n",
       "0   540.0                 0.0      0.0  162.0               2.5   \n",
       "1   540.0                 0.0      0.0  162.0               2.5   \n",
       "2   332.5               142.5      0.0  228.0               0.0   \n",
       "3   332.5               142.5      0.0  228.0               0.0   \n",
       "4   198.6               132.4      0.0  192.0               0.0   \n",
       "\n",
       "   Coarse Aggregate  Fine Aggregate  Age  \n",
       "0            1040.0           676.0   28  \n",
       "1            1055.0           676.0   28  \n",
       "2             932.0           594.0  270  \n",
       "3             932.0           594.0  365  \n",
       "4             978.4           825.5  360  "
      ]
     },
     "execution_count": 7,
     "metadata": {},
     "output_type": "execute_result"
    }
   ],
   "source": [
    "x.head()"
   ]
  },
  {
   "cell_type": "code",
   "execution_count": 8,
   "metadata": {
    "execution": {
     "iopub.execute_input": "2020-12-01T07:13:19.699668Z",
     "iopub.status.busy": "2020-12-01T07:13:19.698659Z",
     "iopub.status.idle": "2020-12-01T07:13:19.702507Z",
     "shell.execute_reply": "2020-12-01T07:13:19.701677Z"
    },
    "papermill": {
     "duration": 0.043922,
     "end_time": "2020-12-01T07:13:19.702657",
     "exception": false,
     "start_time": "2020-12-01T07:13:19.658735",
     "status": "completed"
    },
    "tags": []
   },
   "outputs": [],
   "source": [
    "y=df.iloc[:,-1]"
   ]
  },
  {
   "cell_type": "code",
   "execution_count": 9,
   "metadata": {
    "execution": {
     "iopub.execute_input": "2020-12-01T07:13:19.780018Z",
     "iopub.status.busy": "2020-12-01T07:13:19.779007Z",
     "iopub.status.idle": "2020-12-01T07:13:19.783984Z",
     "shell.execute_reply": "2020-12-01T07:13:19.783223Z"
    },
    "papermill": {
     "duration": 0.047008,
     "end_time": "2020-12-01T07:13:19.784115",
     "exception": false,
     "start_time": "2020-12-01T07:13:19.737107",
     "status": "completed"
    },
    "tags": []
   },
   "outputs": [
    {
     "data": {
      "text/plain": [
       "0    79.99\n",
       "1    61.89\n",
       "2    40.27\n",
       "3    41.05\n",
       "4    44.30\n",
       "Name: Strength, dtype: float64"
      ]
     },
     "execution_count": 9,
     "metadata": {},
     "output_type": "execute_result"
    }
   ],
   "source": [
    "y.head()"
   ]
  },
  {
   "cell_type": "code",
   "execution_count": 10,
   "metadata": {
    "execution": {
     "iopub.execute_input": "2020-12-01T07:13:19.865451Z",
     "iopub.status.busy": "2020-12-01T07:13:19.864586Z",
     "iopub.status.idle": "2020-12-01T07:13:26.384612Z",
     "shell.execute_reply": "2020-12-01T07:13:26.383789Z"
    },
    "papermill": {
     "duration": 6.561851,
     "end_time": "2020-12-01T07:13:26.384749",
     "exception": false,
     "start_time": "2020-12-01T07:13:19.822898",
     "status": "completed"
    },
    "tags": []
   },
   "outputs": [],
   "source": [
    "import keras"
   ]
  },
  {
   "cell_type": "code",
   "execution_count": 11,
   "metadata": {
    "execution": {
     "iopub.execute_input": "2020-12-01T07:13:26.456839Z",
     "iopub.status.busy": "2020-12-01T07:13:26.456011Z",
     "iopub.status.idle": "2020-12-01T07:13:26.459331Z",
     "shell.execute_reply": "2020-12-01T07:13:26.458695Z"
    },
    "papermill": {
     "duration": 0.041403,
     "end_time": "2020-12-01T07:13:26.459475",
     "exception": false,
     "start_time": "2020-12-01T07:13:26.418072",
     "status": "completed"
    },
    "tags": []
   },
   "outputs": [],
   "source": [
    "from keras.models import Sequential\n",
    "from keras.layers import Dense"
   ]
  },
  {
   "cell_type": "code",
   "execution_count": 12,
   "metadata": {
    "execution": {
     "iopub.execute_input": "2020-12-01T07:13:26.531647Z",
     "iopub.status.busy": "2020-12-01T07:13:26.530760Z",
     "iopub.status.idle": "2020-12-01T07:13:26.533733Z",
     "shell.execute_reply": "2020-12-01T07:13:26.533006Z"
    },
    "papermill": {
     "duration": 0.041056,
     "end_time": "2020-12-01T07:13:26.533856",
     "exception": false,
     "start_time": "2020-12-01T07:13:26.492800",
     "status": "completed"
    },
    "tags": []
   },
   "outputs": [],
   "source": [
    "n=len(x.columns)"
   ]
  },
  {
   "cell_type": "code",
   "execution_count": 13,
   "metadata": {
    "execution": {
     "iopub.execute_input": "2020-12-01T07:13:26.606784Z",
     "iopub.status.busy": "2020-12-01T07:13:26.605894Z",
     "iopub.status.idle": "2020-12-01T07:13:26.610467Z",
     "shell.execute_reply": "2020-12-01T07:13:26.609612Z"
    },
    "papermill": {
     "duration": 0.043162,
     "end_time": "2020-12-01T07:13:26.610600",
     "exception": false,
     "start_time": "2020-12-01T07:13:26.567438",
     "status": "completed"
    },
    "tags": []
   },
   "outputs": [
    {
     "data": {
      "text/plain": [
       "8"
      ]
     },
     "execution_count": 13,
     "metadata": {},
     "output_type": "execute_result"
    }
   ],
   "source": [
    "n"
   ]
  },
  {
   "cell_type": "markdown",
   "metadata": {
    "papermill": {
     "duration": 0.035008,
     "end_time": "2020-12-01T07:13:26.681135",
     "exception": false,
     "start_time": "2020-12-01T07:13:26.646127",
     "status": "completed"
    },
    "tags": []
   },
   "source": [
    "# Regression model using Keras"
   ]
  },
  {
   "cell_type": "code",
   "execution_count": 14,
   "metadata": {
    "execution": {
     "iopub.execute_input": "2020-12-01T07:13:26.761072Z",
     "iopub.status.busy": "2020-12-01T07:13:26.759979Z",
     "iopub.status.idle": "2020-12-01T07:13:26.763281Z",
     "shell.execute_reply": "2020-12-01T07:13:26.762667Z"
    },
    "papermill": {
     "duration": 0.046883,
     "end_time": "2020-12-01T07:13:26.763425",
     "exception": false,
     "start_time": "2020-12-01T07:13:26.716542",
     "status": "completed"
    },
    "tags": []
   },
   "outputs": [],
   "source": [
    "def regression_model():\n",
    "    model=Sequential()\n",
    "    model.add(Dense(10,activation='relu',input_shape=(n,)))\n",
    "    model.add(Dense(1))\n",
    "    \n",
    "    model.compile(optimizer='adam',loss='mean_squared_error')\n",
    "    return model"
   ]
  },
  {
   "cell_type": "markdown",
   "metadata": {
    "papermill": {
     "duration": 0.03414,
     "end_time": "2020-12-01T07:13:26.832403",
     "exception": false,
     "start_time": "2020-12-01T07:13:26.798263",
     "status": "completed"
    },
    "tags": []
   },
   "source": [
    "# Train test split"
   ]
  },
  {
   "cell_type": "code",
   "execution_count": 15,
   "metadata": {
    "execution": {
     "iopub.execute_input": "2020-12-01T07:13:26.907919Z",
     "iopub.status.busy": "2020-12-01T07:13:26.907052Z",
     "iopub.status.idle": "2020-12-01T07:13:27.848957Z",
     "shell.execute_reply": "2020-12-01T07:13:27.848135Z"
    },
    "papermill": {
     "duration": 0.981997,
     "end_time": "2020-12-01T07:13:27.849097",
     "exception": false,
     "start_time": "2020-12-01T07:13:26.867100",
     "status": "completed"
    },
    "tags": []
   },
   "outputs": [],
   "source": [
    "from sklearn.model_selection import train_test_split\n",
    "\n",
    "xtrain,xtest,ytrain,ytest=train_test_split(x,y,test_size=0.2)\n"
   ]
  },
  {
   "cell_type": "code",
   "execution_count": 16,
   "metadata": {
    "execution": {
     "iopub.execute_input": "2020-12-01T07:13:27.925284Z",
     "iopub.status.busy": "2020-12-01T07:13:27.924438Z",
     "iopub.status.idle": "2020-12-01T07:13:28.052266Z",
     "shell.execute_reply": "2020-12-01T07:13:28.051398Z"
    },
    "papermill": {
     "duration": 0.167898,
     "end_time": "2020-12-01T07:13:28.052416",
     "exception": false,
     "start_time": "2020-12-01T07:13:27.884518",
     "status": "completed"
    },
    "tags": []
   },
   "outputs": [],
   "source": [
    "reg=regression_model()"
   ]
  },
  {
   "cell_type": "code",
   "execution_count": 17,
   "metadata": {
    "execution": {
     "iopub.execute_input": "2020-12-01T07:13:28.130146Z",
     "iopub.status.busy": "2020-12-01T07:13:28.129411Z",
     "iopub.status.idle": "2020-12-01T07:13:30.190877Z",
     "shell.execute_reply": "2020-12-01T07:13:30.190029Z"
    },
    "papermill": {
     "duration": 2.102383,
     "end_time": "2020-12-01T07:13:30.191036",
     "exception": false,
     "start_time": "2020-12-01T07:13:28.088653",
     "status": "completed"
    },
    "tags": []
   },
   "outputs": [
    {
     "name": "stdout",
     "output_type": "stream",
     "text": [
      "Epoch 1/50\n",
      "26/26 [==============================] - 0s 1ms/step - loss: 4682.4370\n",
      "Epoch 2/50\n",
      "26/26 [==============================] - 0s 1ms/step - loss: 2068.8457\n",
      "Epoch 3/50\n",
      "26/26 [==============================] - 0s 977us/step - loss: 1770.8157\n",
      "Epoch 4/50\n",
      "26/26 [==============================] - 0s 938us/step - loss: 1559.5338\n",
      "Epoch 5/50\n",
      "26/26 [==============================] - 0s 944us/step - loss: 1364.3876\n",
      "Epoch 6/50\n",
      "26/26 [==============================] - 0s 886us/step - loss: 1201.1924\n",
      "Epoch 7/50\n",
      "26/26 [==============================] - 0s 925us/step - loss: 1062.7350\n",
      "Epoch 8/50\n",
      "26/26 [==============================] - 0s 899us/step - loss: 943.3952\n",
      "Epoch 9/50\n",
      "26/26 [==============================] - 0s 942us/step - loss: 838.0450\n",
      "Epoch 10/50\n",
      "26/26 [==============================] - 0s 1ms/step - loss: 739.9150\n",
      "Epoch 11/50\n",
      "26/26 [==============================] - 0s 935us/step - loss: 659.3895\n",
      "Epoch 12/50\n",
      "26/26 [==============================] - 0s 967us/step - loss: 591.2232\n",
      "Epoch 13/50\n",
      "26/26 [==============================] - 0s 958us/step - loss: 530.6810\n",
      "Epoch 14/50\n",
      "26/26 [==============================] - 0s 992us/step - loss: 477.4492\n",
      "Epoch 15/50\n",
      "26/26 [==============================] - 0s 974us/step - loss: 430.3286\n",
      "Epoch 16/50\n",
      "26/26 [==============================] - 0s 972us/step - loss: 388.6340\n",
      "Epoch 17/50\n",
      "26/26 [==============================] - 0s 965us/step - loss: 354.6371\n",
      "Epoch 18/50\n",
      "26/26 [==============================] - 0s 950us/step - loss: 320.4172\n",
      "Epoch 19/50\n",
      "26/26 [==============================] - 0s 981us/step - loss: 292.2757\n",
      "Epoch 20/50\n",
      "26/26 [==============================] - 0s 967us/step - loss: 266.4914\n",
      "Epoch 21/50\n",
      "26/26 [==============================] - 0s 921us/step - loss: 243.9976\n",
      "Epoch 22/50\n",
      "26/26 [==============================] - 0s 979us/step - loss: 225.2100\n",
      "Epoch 23/50\n",
      "26/26 [==============================] - 0s 980us/step - loss: 209.2323\n",
      "Epoch 24/50\n",
      "26/26 [==============================] - 0s 974us/step - loss: 195.2592\n",
      "Epoch 25/50\n",
      "26/26 [==============================] - 0s 937us/step - loss: 180.9046\n",
      "Epoch 26/50\n",
      "26/26 [==============================] - 0s 924us/step - loss: 171.5020\n",
      "Epoch 27/50\n",
      "26/26 [==============================] - 0s 965us/step - loss: 161.2886\n",
      "Epoch 28/50\n",
      "26/26 [==============================] - 0s 930us/step - loss: 153.4457\n",
      "Epoch 29/50\n",
      "26/26 [==============================] - 0s 912us/step - loss: 147.5244\n",
      "Epoch 30/50\n",
      "26/26 [==============================] - 0s 966us/step - loss: 143.7787\n",
      "Epoch 31/50\n",
      "26/26 [==============================] - 0s 947us/step - loss: 136.9612\n",
      "Epoch 32/50\n",
      "26/26 [==============================] - 0s 929us/step - loss: 132.4064\n",
      "Epoch 33/50\n",
      "26/26 [==============================] - 0s 932us/step - loss: 129.8917\n",
      "Epoch 34/50\n",
      "26/26 [==============================] - 0s 922us/step - loss: 126.9510\n",
      "Epoch 35/50\n",
      "26/26 [==============================] - 0s 938us/step - loss: 123.8476\n",
      "Epoch 36/50\n",
      "26/26 [==============================] - 0s 940us/step - loss: 124.3328\n",
      "Epoch 37/50\n",
      "26/26 [==============================] - 0s 940us/step - loss: 121.7273\n",
      "Epoch 38/50\n",
      "26/26 [==============================] - 0s 1ms/step - loss: 119.9080\n",
      "Epoch 39/50\n",
      "26/26 [==============================] - 0s 973us/step - loss: 118.7144\n",
      "Epoch 40/50\n",
      "26/26 [==============================] - 0s 941us/step - loss: 118.7731\n",
      "Epoch 41/50\n",
      "26/26 [==============================] - 0s 923us/step - loss: 118.1803\n",
      "Epoch 42/50\n",
      "26/26 [==============================] - 0s 989us/step - loss: 117.7225\n",
      "Epoch 43/50\n",
      "26/26 [==============================] - 0s 925us/step - loss: 117.3314\n",
      "Epoch 44/50\n",
      "26/26 [==============================] - 0s 954us/step - loss: 115.6885\n",
      "Epoch 45/50\n",
      "26/26 [==============================] - 0s 951us/step - loss: 115.7268\n",
      "Epoch 46/50\n",
      "26/26 [==============================] - 0s 945us/step - loss: 114.8637\n",
      "Epoch 47/50\n",
      "26/26 [==============================] - 0s 918us/step - loss: 114.9507\n",
      "Epoch 48/50\n",
      "26/26 [==============================] - 0s 993us/step - loss: 114.5124\n",
      "Epoch 49/50\n",
      "26/26 [==============================] - 0s 908us/step - loss: 113.8831\n",
      "Epoch 50/50\n",
      "26/26 [==============================] - 0s 933us/step - loss: 113.3862\n"
     ]
    },
    {
     "data": {
      "text/plain": [
       "<tensorflow.python.keras.callbacks.History at 0x7f80ac745d90>"
      ]
     },
     "execution_count": 17,
     "metadata": {},
     "output_type": "execute_result"
    }
   ],
   "source": [
    "reg.fit(xtrain,ytrain,epochs=50,verbose=1)"
   ]
  },
  {
   "cell_type": "code",
   "execution_count": 18,
   "metadata": {
    "execution": {
     "iopub.execute_input": "2020-12-01T07:13:30.369465Z",
     "iopub.status.busy": "2020-12-01T07:13:30.368379Z",
     "iopub.status.idle": "2020-12-01T07:13:30.531255Z",
     "shell.execute_reply": "2020-12-01T07:13:30.531906Z"
    },
    "papermill": {
     "duration": 0.255063,
     "end_time": "2020-12-01T07:13:30.532066",
     "exception": false,
     "start_time": "2020-12-01T07:13:30.277003",
     "status": "completed"
    },
    "tags": []
   },
   "outputs": [
    {
     "name": "stdout",
     "output_type": "stream",
     "text": [
      "7/7 [==============================] - 0s 1ms/step - loss: 93.6316\n"
     ]
    },
    {
     "data": {
      "text/plain": [
       "93.63164520263672"
      ]
     },
     "execution_count": 18,
     "metadata": {},
     "output_type": "execute_result"
    }
   ],
   "source": [
    "loss_ans=reg.evaluate(xtest,ytest)\n",
    "loss_ans"
   ]
  },
  {
   "cell_type": "code",
   "execution_count": 19,
   "metadata": {
    "execution": {
     "iopub.execute_input": "2020-12-01T07:13:30.711124Z",
     "iopub.status.busy": "2020-12-01T07:13:30.710326Z",
     "iopub.status.idle": "2020-12-01T07:13:30.857384Z",
     "shell.execute_reply": "2020-12-01T07:13:30.856587Z"
    },
    "papermill": {
     "duration": 0.239681,
     "end_time": "2020-12-01T07:13:30.857527",
     "exception": false,
     "start_time": "2020-12-01T07:13:30.617846",
     "status": "completed"
    },
    "tags": []
   },
   "outputs": [
    {
     "data": {
      "text/plain": [
       "9.67634499622046"
      ]
     },
     "execution_count": 19,
     "metadata": {},
     "output_type": "execute_result"
    }
   ],
   "source": [
    "from sklearn.metrics import mean_squared_error\n",
    "\n",
    "ypred=reg.predict(xtest)\n",
    "\n",
    "res=np.sqrt(mean_squared_error(ypred,ytest))\n",
    "\n",
    "res"
   ]
  },
  {
   "cell_type": "code",
   "execution_count": 20,
   "metadata": {
    "execution": {
     "iopub.execute_input": "2020-12-01T07:13:31.040961Z",
     "iopub.status.busy": "2020-12-01T07:13:31.040132Z",
     "iopub.status.idle": "2020-12-01T07:13:31.049287Z",
     "shell.execute_reply": "2020-12-01T07:13:31.048534Z"
    },
    "papermill": {
     "duration": 0.102767,
     "end_time": "2020-12-01T07:13:31.049420",
     "exception": false,
     "start_time": "2020-12-01T07:13:30.946653",
     "status": "completed"
    },
    "tags": []
   },
   "outputs": [
    {
     "data": {
      "text/plain": [
       "[array([[ 0.47959068, -0.2822306 , -0.19436973,  0.49945346, -0.35156804,\n",
       "         -0.34880704,  0.17790133, -0.4400085 , -0.4797114 ,  0.15471423],\n",
       "        [ 0.25337017,  0.06754681, -0.34071064, -0.0863578 ,  0.42653453,\n",
       "         -0.42582744, -0.2283751 ,  0.1951226 ,  0.2618295 ,  0.03441191],\n",
       "        [ 0.36006168, -0.2786316 ,  0.3813802 ,  0.10816915, -0.55441165,\n",
       "          0.12877488,  0.0438779 ,  0.13572176,  0.25515324, -0.12480405],\n",
       "        [-0.20339692,  0.20721622, -0.4987167 , -0.35111782,  0.35818106,\n",
       "         -0.07610875,  0.32840472,  0.4068185 , -0.3840369 ,  0.2664519 ],\n",
       "        [ 0.41655377,  0.55051184,  0.5657346 , -0.5490512 ,  0.12287229,\n",
       "         -0.3803441 ,  0.24413592, -0.29916617, -0.1484137 ,  0.43450058],\n",
       "        [ 0.09945164,  0.00754577, -0.12396631,  0.34950975, -0.38290608,\n",
       "         -0.22861233, -0.17197153, -0.00447968,  0.42873308, -0.11554152],\n",
       "        [-0.07414055,  0.5133963 ,  0.01591301, -0.15009522,  0.04689908,\n",
       "          0.23869401, -0.1232773 ,  0.3312577 ,  0.43726218, -0.5231605 ],\n",
       "        [-0.28717372,  0.42764866,  0.28419387, -0.79745835,  0.30918527,\n",
       "         -0.2452187 ,  0.19900833,  0.31099254,  0.43020558, -0.47391418]],\n",
       "       dtype=float32),\n",
       " array([ 0.04160247,  0.03623779,  0.        , -0.04683476,  0.        ,\n",
       "         0.        , -0.02587911, -0.03674914,  0.03850935,  0.        ],\n",
       "       dtype=float32),\n",
       " array([[ 0.37628517],\n",
       "        [ 0.11807344],\n",
       "        [ 0.41680914],\n",
       "        [-0.30983788],\n",
       "        [-0.05778086],\n",
       "        [-0.2750899 ],\n",
       "        [-0.5856071 ],\n",
       "        [-0.47750604],\n",
       "        [ 0.20218511],\n",
       "        [-0.61228913]], dtype=float32),\n",
       " array([0.0385603], dtype=float32)]"
      ]
     },
     "execution_count": 20,
     "metadata": {},
     "output_type": "execute_result"
    }
   ],
   "source": [
    "reg.get_weights()"
   ]
  },
  {
   "cell_type": "markdown",
   "metadata": {
    "papermill": {
     "duration": 0.088125,
     "end_time": "2020-12-01T07:13:31.226564",
     "exception": false,
     "start_time": "2020-12-01T07:13:31.138439",
     "status": "completed"
    },
    "tags": []
   },
   "source": [
    "# Mean squared error"
   ]
  },
  {
   "cell_type": "code",
   "execution_count": 21,
   "metadata": {
    "execution": {
     "iopub.execute_input": "2020-12-01T07:13:31.417407Z",
     "iopub.status.busy": "2020-12-01T07:13:31.416567Z",
     "iopub.status.idle": "2020-12-01T07:14:26.693674Z",
     "shell.execute_reply": "2020-12-01T07:14:26.692819Z"
    },
    "papermill": {
     "duration": 55.379594,
     "end_time": "2020-12-01T07:14:26.693840",
     "exception": false,
     "start_time": "2020-12-01T07:13:31.314246",
     "status": "completed"
    },
    "tags": []
   },
   "outputs": [
    {
     "name": "stdout",
     "output_type": "stream",
     "text": [
      "MSE 1: 81.54914093017578\n",
      "MSE 2: 80.56268310546875\n",
      "MSE 3: 79.26407623291016\n",
      "MSE 4: 74.55038452148438\n",
      "MSE 5: 61.10716247558594\n",
      "MSE 6: 50.71138000488281\n",
      "MSE 7: 46.06885528564453\n",
      "MSE 8: 45.444271087646484\n",
      "MSE 9: 45.305747985839844\n",
      "MSE 10: 45.421390533447266\n",
      "MSE 11: 45.32083511352539\n",
      "MSE 12: 40.22740936279297\n",
      "MSE 13: 40.79005813598633\n",
      "MSE 14: 40.2823371887207\n",
      "MSE 15: 38.77082443237305\n",
      "MSE 16: 43.10128402709961\n",
      "MSE 17: 41.05378341674805\n",
      "MSE 18: 39.22805404663086\n",
      "MSE 19: 44.671424865722656\n",
      "MSE 20: 38.77939987182617\n",
      "MSE 21: 38.26329803466797\n",
      "MSE 22: 37.25697326660156\n",
      "MSE 23: 39.46476745605469\n",
      "MSE 24: 37.93897247314453\n",
      "MSE 25: 36.59702682495117\n",
      "MSE 26: 36.38612747192383\n",
      "MSE 27: 39.356266021728516\n",
      "MSE 28: 40.96644973754883\n",
      "MSE 29: 36.99264144897461\n",
      "MSE 30: 34.87248611450195\n",
      "MSE 31: 35.77311325073242\n",
      "MSE 32: 35.124874114990234\n",
      "MSE 33: 37.23777770996094\n",
      "MSE 34: 35.43527603149414\n",
      "MSE 35: 35.472660064697266\n",
      "MSE 36: 34.6668815612793\n",
      "MSE 37: 35.52834701538086\n",
      "MSE 38: 38.379180908203125\n",
      "MSE 39: 34.9947509765625\n",
      "MSE 40: 38.9400520324707\n",
      "MSE 41: 34.82815170288086\n",
      "MSE 42: 34.53873825073242\n",
      "MSE 43: 37.568363189697266\n",
      "MSE 44: 35.36614227294922\n",
      "MSE 45: 35.283302307128906\n",
      "MSE 46: 36.46282958984375\n",
      "MSE 47: 34.39079666137695\n",
      "MSE 48: 39.04624557495117\n",
      "MSE 49: 35.13520812988281\n",
      "MSE 50: 34.21589279174805\n",
      "\n",
      "\n",
      "Below is the mean and standard deviation of 50 mean squared errors without normalized data. Total number of epochs for each training is: 50\n",
      "\n",
      "Mean: 42.37388295770376\n",
      "Standard Deviation: 11.855138235451808\n"
     ]
    }
   ],
   "source": [
    "total_mean_squared_errors = 50\n",
    "epochs = 50\n",
    "mean_squared_errors = []\n",
    "for i in range(0, total_mean_squared_errors):\n",
    "    X_train, X_test, y_train, y_test = train_test_split(x, y, test_size=0.3, random_state=i)\n",
    "    reg.fit(X_train, y_train, epochs=epochs, verbose=0)\n",
    "    MSE = reg.evaluate(xtest, ytest, verbose=0)\n",
    "    print(\"MSE \"+str(i+1)+\": \"+str(MSE))\n",
    "    y_pred = reg.predict(xtest)\n",
    "    mean_square_error = mean_squared_error(ytest, y_pred)\n",
    "    mean_squared_errors.append(mean_square_error)\n",
    "\n",
    "mean_squared_errors = np.array(mean_squared_errors)\n",
    "mean = np.mean(mean_squared_errors)\n",
    "standard_deviation = np.std(mean_squared_errors)\n",
    "\n",
    "print('\\n')\n",
    "print(\"Below is the mean and standard deviation of \" +str(total_mean_squared_errors) + \" mean squared errors without normalized data. Total number of epochs for each training is: \" +str(epochs) + \"\\n\")\n",
    "print(\"Mean: \"+str(mean))\n",
    "print(\"Standard Deviation: \"+str(standard_deviation))"
   ]
  },
  {
   "cell_type": "markdown",
   "metadata": {
    "papermill": {
     "duration": 0.111794,
     "end_time": "2020-12-01T07:14:26.916632",
     "exception": false,
     "start_time": "2020-12-01T07:14:26.804838",
     "status": "completed"
    },
    "tags": []
   },
   "source": [
    "# B. Normalise the data"
   ]
  },
  {
   "cell_type": "code",
   "execution_count": 22,
   "metadata": {
    "execution": {
     "iopub.execute_input": "2020-12-01T07:14:27.139036Z",
     "iopub.status.busy": "2020-12-01T07:14:27.138181Z",
     "iopub.status.idle": "2020-12-01T07:14:27.181380Z",
     "shell.execute_reply": "2020-12-01T07:14:27.180626Z"
    },
    "papermill": {
     "duration": 0.15845,
     "end_time": "2020-12-01T07:14:27.181516",
     "exception": false,
     "start_time": "2020-12-01T07:14:27.023066",
     "status": "completed"
    },
    "tags": []
   },
   "outputs": [
    {
     "data": {
      "text/html": [
       "<div>\n",
       "<style scoped>\n",
       "    .dataframe tbody tr th:only-of-type {\n",
       "        vertical-align: middle;\n",
       "    }\n",
       "\n",
       "    .dataframe tbody tr th {\n",
       "        vertical-align: top;\n",
       "    }\n",
       "\n",
       "    .dataframe thead th {\n",
       "        text-align: right;\n",
       "    }\n",
       "</style>\n",
       "<table border=\"1\" class=\"dataframe\">\n",
       "  <thead>\n",
       "    <tr style=\"text-align: right;\">\n",
       "      <th></th>\n",
       "      <th>Cement</th>\n",
       "      <th>Blast Furnace Slag</th>\n",
       "      <th>Fly Ash</th>\n",
       "      <th>Water</th>\n",
       "      <th>Superplasticizer</th>\n",
       "      <th>Coarse Aggregate</th>\n",
       "      <th>Fine Aggregate</th>\n",
       "      <th>Age</th>\n",
       "    </tr>\n",
       "  </thead>\n",
       "  <tbody>\n",
       "    <tr>\n",
       "      <th>0</th>\n",
       "      <td>2.476712</td>\n",
       "      <td>-0.856472</td>\n",
       "      <td>-0.846733</td>\n",
       "      <td>-0.916319</td>\n",
       "      <td>-0.620147</td>\n",
       "      <td>0.862735</td>\n",
       "      <td>-1.217079</td>\n",
       "      <td>-0.279597</td>\n",
       "    </tr>\n",
       "    <tr>\n",
       "      <th>1</th>\n",
       "      <td>2.476712</td>\n",
       "      <td>-0.856472</td>\n",
       "      <td>-0.846733</td>\n",
       "      <td>-0.916319</td>\n",
       "      <td>-0.620147</td>\n",
       "      <td>1.055651</td>\n",
       "      <td>-1.217079</td>\n",
       "      <td>-0.279597</td>\n",
       "    </tr>\n",
       "    <tr>\n",
       "      <th>2</th>\n",
       "      <td>0.491187</td>\n",
       "      <td>0.795140</td>\n",
       "      <td>-0.846733</td>\n",
       "      <td>2.174405</td>\n",
       "      <td>-1.038638</td>\n",
       "      <td>-0.526262</td>\n",
       "      <td>-2.239829</td>\n",
       "      <td>3.551340</td>\n",
       "    </tr>\n",
       "    <tr>\n",
       "      <th>3</th>\n",
       "      <td>0.491187</td>\n",
       "      <td>0.795140</td>\n",
       "      <td>-0.846733</td>\n",
       "      <td>2.174405</td>\n",
       "      <td>-1.038638</td>\n",
       "      <td>-0.526262</td>\n",
       "      <td>-2.239829</td>\n",
       "      <td>5.055221</td>\n",
       "    </tr>\n",
       "    <tr>\n",
       "      <th>4</th>\n",
       "      <td>-0.790075</td>\n",
       "      <td>0.678079</td>\n",
       "      <td>-0.846733</td>\n",
       "      <td>0.488555</td>\n",
       "      <td>-1.038638</td>\n",
       "      <td>0.070492</td>\n",
       "      <td>0.647569</td>\n",
       "      <td>4.976069</td>\n",
       "    </tr>\n",
       "  </tbody>\n",
       "</table>\n",
       "</div>"
      ],
      "text/plain": [
       "     Cement  Blast Furnace Slag   Fly Ash     Water  Superplasticizer  \\\n",
       "0  2.476712           -0.856472 -0.846733 -0.916319         -0.620147   \n",
       "1  2.476712           -0.856472 -0.846733 -0.916319         -0.620147   \n",
       "2  0.491187            0.795140 -0.846733  2.174405         -1.038638   \n",
       "3  0.491187            0.795140 -0.846733  2.174405         -1.038638   \n",
       "4 -0.790075            0.678079 -0.846733  0.488555         -1.038638   \n",
       "\n",
       "   Coarse Aggregate  Fine Aggregate       Age  \n",
       "0          0.862735       -1.217079 -0.279597  \n",
       "1          1.055651       -1.217079 -0.279597  \n",
       "2         -0.526262       -2.239829  3.551340  \n",
       "3         -0.526262       -2.239829  5.055221  \n",
       "4          0.070492        0.647569  4.976069  "
      ]
     },
     "execution_count": 22,
     "metadata": {},
     "output_type": "execute_result"
    }
   ],
   "source": [
    "x = (x - x.mean()) / x.std()\n",
    "x.head()"
   ]
  },
  {
   "cell_type": "code",
   "execution_count": 23,
   "metadata": {
    "execution": {
     "iopub.execute_input": "2020-12-01T07:14:27.407684Z",
     "iopub.status.busy": "2020-12-01T07:14:27.406159Z",
     "iopub.status.idle": "2020-12-01T07:14:27.411107Z",
     "shell.execute_reply": "2020-12-01T07:14:27.410396Z"
    },
    "papermill": {
     "duration": 0.119491,
     "end_time": "2020-12-01T07:14:27.411286",
     "exception": false,
     "start_time": "2020-12-01T07:14:27.291795",
     "status": "completed"
    },
    "tags": []
   },
   "outputs": [],
   "source": [
    "from sklearn.model_selection import train_test_split\n",
    "\n",
    "xtrain,xtest,ytrain,ytest=train_test_split(x,y,test_size=0.2)\n"
   ]
  },
  {
   "cell_type": "code",
   "execution_count": 24,
   "metadata": {
    "execution": {
     "iopub.execute_input": "2020-12-01T07:14:27.631989Z",
     "iopub.status.busy": "2020-12-01T07:14:27.631230Z",
     "iopub.status.idle": "2020-12-01T07:14:29.209674Z",
     "shell.execute_reply": "2020-12-01T07:14:29.208876Z"
    },
    "papermill": {
     "duration": 1.691319,
     "end_time": "2020-12-01T07:14:29.209819",
     "exception": false,
     "start_time": "2020-12-01T07:14:27.518500",
     "status": "completed"
    },
    "tags": []
   },
   "outputs": [
    {
     "name": "stdout",
     "output_type": "stream",
     "text": [
      "Epoch 1/50\n",
      "26/26 [==============================] - 0s 999us/step - loss: 1574.7448\n",
      "Epoch 2/50\n",
      "26/26 [==============================] - 0s 986us/step - loss: 1517.8094\n",
      "Epoch 3/50\n",
      "26/26 [==============================] - 0s 1ms/step - loss: 1469.0258\n",
      "Epoch 4/50\n",
      "26/26 [==============================] - 0s 1ms/step - loss: 1419.9719\n",
      "Epoch 5/50\n",
      "26/26 [==============================] - 0s 956us/step - loss: 1371.0208\n",
      "Epoch 6/50\n",
      "26/26 [==============================] - 0s 1ms/step - loss: 1321.9714\n",
      "Epoch 7/50\n",
      "26/26 [==============================] - 0s 1ms/step - loss: 1273.7694\n",
      "Epoch 8/50\n",
      "26/26 [==============================] - 0s 1ms/step - loss: 1225.4504\n",
      "Epoch 9/50\n",
      "26/26 [==============================] - 0s 1ms/step - loss: 1178.5413\n",
      "Epoch 10/50\n",
      "26/26 [==============================] - 0s 1ms/step - loss: 1132.5284\n",
      "Epoch 11/50\n",
      "26/26 [==============================] - 0s 1ms/step - loss: 1087.8970\n",
      "Epoch 12/50\n",
      "26/26 [==============================] - 0s 979us/step - loss: 1044.9595\n",
      "Epoch 13/50\n",
      "26/26 [==============================] - 0s 1ms/step - loss: 1002.5244\n",
      "Epoch 14/50\n",
      "26/26 [==============================] - 0s 1ms/step - loss: 962.3627\n",
      "Epoch 15/50\n",
      "26/26 [==============================] - 0s 1ms/step - loss: 923.5145\n",
      "Epoch 16/50\n",
      "26/26 [==============================] - 0s 1ms/step - loss: 886.0372\n",
      "Epoch 17/50\n",
      "26/26 [==============================] - 0s 1ms/step - loss: 850.2938\n",
      "Epoch 18/50\n",
      "26/26 [==============================] - 0s 1ms/step - loss: 815.7629\n",
      "Epoch 19/50\n",
      "26/26 [==============================] - 0s 993us/step - loss: 782.8719\n",
      "Epoch 20/50\n",
      "26/26 [==============================] - 0s 1ms/step - loss: 751.1278\n",
      "Epoch 21/50\n",
      "26/26 [==============================] - 0s 1ms/step - loss: 721.0766\n",
      "Epoch 22/50\n",
      "26/26 [==============================] - 0s 956us/step - loss: 691.8716\n",
      "Epoch 23/50\n",
      "26/26 [==============================] - 0s 919us/step - loss: 662.8843\n",
      "Epoch 24/50\n",
      "26/26 [==============================] - 0s 945us/step - loss: 633.2548\n",
      "Epoch 25/50\n",
      "26/26 [==============================] - 0s 976us/step - loss: 602.7949\n",
      "Epoch 26/50\n",
      "26/26 [==============================] - 0s 989us/step - loss: 572.5653\n",
      "Epoch 27/50\n",
      "26/26 [==============================] - 0s 940us/step - loss: 543.4937\n",
      "Epoch 28/50\n",
      "26/26 [==============================] - 0s 979us/step - loss: 515.5452\n",
      "Epoch 29/50\n",
      "26/26 [==============================] - 0s 1ms/step - loss: 489.5934\n",
      "Epoch 30/50\n",
      "26/26 [==============================] - 0s 1ms/step - loss: 465.5583\n",
      "Epoch 31/50\n",
      "26/26 [==============================] - 0s 1000us/step - loss: 443.2908\n",
      "Epoch 32/50\n",
      "26/26 [==============================] - 0s 997us/step - loss: 422.6710\n",
      "Epoch 33/50\n",
      "26/26 [==============================] - 0s 1ms/step - loss: 404.2128\n",
      "Epoch 34/50\n",
      "26/26 [==============================] - 0s 1ms/step - loss: 387.2979\n",
      "Epoch 35/50\n",
      "26/26 [==============================] - 0s 974us/step - loss: 371.5413\n",
      "Epoch 36/50\n",
      "26/26 [==============================] - 0s 968us/step - loss: 357.2561\n",
      "Epoch 37/50\n",
      "26/26 [==============================] - 0s 1ms/step - loss: 344.1500\n",
      "Epoch 38/50\n",
      "26/26 [==============================] - 0s 971us/step - loss: 332.4231\n",
      "Epoch 39/50\n",
      "26/26 [==============================] - 0s 987us/step - loss: 321.5345\n",
      "Epoch 40/50\n",
      "26/26 [==============================] - 0s 948us/step - loss: 311.8369\n",
      "Epoch 41/50\n",
      "26/26 [==============================] - 0s 1ms/step - loss: 302.5489\n",
      "Epoch 42/50\n",
      "26/26 [==============================] - 0s 972us/step - loss: 294.3739\n",
      "Epoch 43/50\n",
      "26/26 [==============================] - 0s 930us/step - loss: 286.4868\n",
      "Epoch 44/50\n",
      "26/26 [==============================] - 0s 1ms/step - loss: 279.2534\n",
      "Epoch 45/50\n",
      "26/26 [==============================] - 0s 1ms/step - loss: 272.7285\n",
      "Epoch 46/50\n",
      "26/26 [==============================] - 0s 1ms/step - loss: 266.5289\n",
      "Epoch 47/50\n",
      "26/26 [==============================] - 0s 987us/step - loss: 260.7214\n",
      "Epoch 48/50\n",
      "26/26 [==============================] - 0s 1ms/step - loss: 255.0957\n",
      "Epoch 49/50\n",
      "26/26 [==============================] - 0s 1ms/step - loss: 249.9921\n",
      "Epoch 50/50\n",
      "26/26 [==============================] - 0s 1ms/step - loss: 245.1197\n"
     ]
    },
    {
     "data": {
      "text/plain": [
       "<tensorflow.python.keras.callbacks.History at 0x7f80944ba0d0>"
      ]
     },
     "execution_count": 24,
     "metadata": {},
     "output_type": "execute_result"
    }
   ],
   "source": [
    "reg.fit(xtrain,ytrain,epochs=50,verbose=1)"
   ]
  },
  {
   "cell_type": "code",
   "execution_count": 25,
   "metadata": {
    "execution": {
     "iopub.execute_input": "2020-12-01T07:14:29.522598Z",
     "iopub.status.busy": "2020-12-01T07:14:29.520920Z",
     "iopub.status.idle": "2020-12-01T07:14:29.575558Z",
     "shell.execute_reply": "2020-12-01T07:14:29.576160Z"
    },
    "papermill": {
     "duration": 0.21336,
     "end_time": "2020-12-01T07:14:29.576351",
     "exception": false,
     "start_time": "2020-12-01T07:14:29.362991",
     "status": "completed"
    },
    "tags": []
   },
   "outputs": [
    {
     "data": {
      "text/plain": [
       "14.296462511708723"
      ]
     },
     "execution_count": 25,
     "metadata": {},
     "output_type": "execute_result"
    }
   ],
   "source": [
    "ypred=reg.predict(xtest)\n",
    "\n",
    "res=np.sqrt(mean_squared_error(ypred,ytest))\n",
    "\n",
    "res"
   ]
  },
  {
   "cell_type": "markdown",
   "metadata": {
    "papermill": {
     "duration": 0.153861,
     "end_time": "2020-12-01T07:14:29.880972",
     "exception": false,
     "start_time": "2020-12-01T07:14:29.727111",
     "status": "completed"
    },
    "tags": []
   },
   "source": [
    "# C. Increase the no of epochs "
   ]
  },
  {
   "cell_type": "code",
   "execution_count": 26,
   "metadata": {
    "execution": {
     "iopub.execute_input": "2020-12-01T07:14:30.192436Z",
     "iopub.status.busy": "2020-12-01T07:14:30.191336Z",
     "iopub.status.idle": "2020-12-01T07:14:33.209606Z",
     "shell.execute_reply": "2020-12-01T07:14:33.208693Z"
    },
    "papermill": {
     "duration": 3.177019,
     "end_time": "2020-12-01T07:14:33.209756",
     "exception": false,
     "start_time": "2020-12-01T07:14:30.032737",
     "status": "completed"
    },
    "tags": []
   },
   "outputs": [
    {
     "name": "stdout",
     "output_type": "stream",
     "text": [
      "Epoch 1/100\n",
      "26/26 [==============================] - 0s 978us/step - loss: 240.4633\n",
      "Epoch 2/100\n",
      "26/26 [==============================] - 0s 984us/step - loss: 236.1090\n",
      "Epoch 3/100\n",
      "26/26 [==============================] - 0s 1ms/step - loss: 231.9716\n",
      "Epoch 4/100\n",
      "26/26 [==============================] - 0s 976us/step - loss: 227.9353\n",
      "Epoch 5/100\n",
      "26/26 [==============================] - 0s 958us/step - loss: 224.2092\n",
      "Epoch 6/100\n",
      "26/26 [==============================] - 0s 976us/step - loss: 220.6223\n",
      "Epoch 7/100\n",
      "26/26 [==============================] - 0s 961us/step - loss: 217.2049\n",
      "Epoch 8/100\n",
      "26/26 [==============================] - 0s 997us/step - loss: 214.0292\n",
      "Epoch 9/100\n",
      "26/26 [==============================] - 0s 963us/step - loss: 210.8818\n",
      "Epoch 10/100\n",
      "26/26 [==============================] - 0s 989us/step - loss: 207.9553\n",
      "Epoch 11/100\n",
      "26/26 [==============================] - 0s 968us/step - loss: 205.0623\n",
      "Epoch 12/100\n",
      "26/26 [==============================] - 0s 1ms/step - loss: 202.4594\n",
      "Epoch 13/100\n",
      "26/26 [==============================] - 0s 919us/step - loss: 199.8167\n",
      "Epoch 14/100\n",
      "26/26 [==============================] - 0s 960us/step - loss: 197.3970\n",
      "Epoch 15/100\n",
      "26/26 [==============================] - 0s 930us/step - loss: 195.0021\n",
      "Epoch 16/100\n",
      "26/26 [==============================] - 0s 1ms/step - loss: 192.6115\n",
      "Epoch 17/100\n",
      "26/26 [==============================] - 0s 949us/step - loss: 190.4275\n",
      "Epoch 18/100\n",
      "26/26 [==============================] - 0s 949us/step - loss: 188.1630\n",
      "Epoch 19/100\n",
      "26/26 [==============================] - 0s 963us/step - loss: 186.0447\n",
      "Epoch 20/100\n",
      "26/26 [==============================] - 0s 949us/step - loss: 184.0190\n",
      "Epoch 21/100\n",
      "26/26 [==============================] - 0s 987us/step - loss: 182.0012\n",
      "Epoch 22/100\n",
      "26/26 [==============================] - 0s 968us/step - loss: 179.9927\n",
      "Epoch 23/100\n",
      "26/26 [==============================] - 0s 937us/step - loss: 177.9406\n",
      "Epoch 24/100\n",
      "26/26 [==============================] - 0s 986us/step - loss: 175.9216\n",
      "Epoch 25/100\n",
      "26/26 [==============================] - 0s 978us/step - loss: 174.0571\n",
      "Epoch 26/100\n",
      "26/26 [==============================] - 0s 1ms/step - loss: 172.1080\n",
      "Epoch 27/100\n",
      "26/26 [==============================] - 0s 1ms/step - loss: 170.3579\n",
      "Epoch 28/100\n",
      "26/26 [==============================] - 0s 1ms/step - loss: 168.5667\n",
      "Epoch 29/100\n",
      "26/26 [==============================] - 0s 1ms/step - loss: 166.7477\n",
      "Epoch 30/100\n",
      "26/26 [==============================] - 0s 995us/step - loss: 165.0466\n",
      "Epoch 31/100\n",
      "26/26 [==============================] - 0s 994us/step - loss: 163.3666\n",
      "Epoch 32/100\n",
      "26/26 [==============================] - 0s 989us/step - loss: 161.7695\n",
      "Epoch 33/100\n",
      "26/26 [==============================] - 0s 1ms/step - loss: 160.1183\n",
      "Epoch 34/100\n",
      "26/26 [==============================] - 0s 995us/step - loss: 158.5383\n",
      "Epoch 35/100\n",
      "26/26 [==============================] - 0s 967us/step - loss: 156.9656\n",
      "Epoch 36/100\n",
      "26/26 [==============================] - 0s 935us/step - loss: 155.4614\n",
      "Epoch 37/100\n",
      "26/26 [==============================] - 0s 1ms/step - loss: 153.9716\n",
      "Epoch 38/100\n",
      "26/26 [==============================] - 0s 984us/step - loss: 152.5065\n",
      "Epoch 39/100\n",
      "26/26 [==============================] - 0s 982us/step - loss: 151.0326\n",
      "Epoch 40/100\n",
      "26/26 [==============================] - 0s 993us/step - loss: 149.6675\n",
      "Epoch 41/100\n",
      "26/26 [==============================] - 0s 966us/step - loss: 148.2627\n",
      "Epoch 42/100\n",
      "26/26 [==============================] - 0s 957us/step - loss: 146.8951\n",
      "Epoch 43/100\n",
      "26/26 [==============================] - 0s 996us/step - loss: 145.5622\n",
      "Epoch 44/100\n",
      "26/26 [==============================] - 0s 998us/step - loss: 144.3000\n",
      "Epoch 45/100\n",
      "26/26 [==============================] - 0s 1ms/step - loss: 143.0469\n",
      "Epoch 46/100\n",
      "26/26 [==============================] - 0s 1ms/step - loss: 141.8656\n",
      "Epoch 47/100\n",
      "26/26 [==============================] - 0s 1ms/step - loss: 140.6794\n",
      "Epoch 48/100\n",
      "26/26 [==============================] - 0s 1ms/step - loss: 139.4670\n",
      "Epoch 49/100\n",
      "26/26 [==============================] - 0s 1ms/step - loss: 138.2690\n",
      "Epoch 50/100\n",
      "26/26 [==============================] - 0s 996us/step - loss: 137.1610\n",
      "Epoch 51/100\n",
      "26/26 [==============================] - 0s 1ms/step - loss: 136.0031\n",
      "Epoch 52/100\n",
      "26/26 [==============================] - 0s 1ms/step - loss: 134.9256\n",
      "Epoch 53/100\n",
      "26/26 [==============================] - 0s 1ms/step - loss: 133.8249\n",
      "Epoch 54/100\n",
      "26/26 [==============================] - 0s 1ms/step - loss: 132.8036\n",
      "Epoch 55/100\n",
      "26/26 [==============================] - 0s 1ms/step - loss: 131.7900\n",
      "Epoch 56/100\n",
      "26/26 [==============================] - 0s 973us/step - loss: 130.8221\n",
      "Epoch 57/100\n",
      "26/26 [==============================] - 0s 908us/step - loss: 129.7706\n",
      "Epoch 58/100\n",
      "26/26 [==============================] - 0s 955us/step - loss: 128.8536\n",
      "Epoch 59/100\n",
      "26/26 [==============================] - 0s 976us/step - loss: 127.9378\n",
      "Epoch 60/100\n",
      "26/26 [==============================] - 0s 939us/step - loss: 126.9639\n",
      "Epoch 61/100\n",
      "26/26 [==============================] - 0s 1ms/step - loss: 126.0362\n",
      "Epoch 62/100\n",
      "26/26 [==============================] - 0s 1ms/step - loss: 125.1891\n",
      "Epoch 63/100\n",
      "26/26 [==============================] - 0s 973us/step - loss: 124.2594\n",
      "Epoch 64/100\n",
      "26/26 [==============================] - 0s 978us/step - loss: 123.3980\n",
      "Epoch 65/100\n",
      "26/26 [==============================] - 0s 968us/step - loss: 122.5372\n",
      "Epoch 66/100\n",
      "26/26 [==============================] - 0s 1ms/step - loss: 121.7385\n",
      "Epoch 67/100\n",
      "26/26 [==============================] - 0s 1ms/step - loss: 120.9624\n",
      "Epoch 68/100\n",
      "26/26 [==============================] - 0s 974us/step - loss: 120.1357\n",
      "Epoch 69/100\n",
      "26/26 [==============================] - 0s 990us/step - loss: 119.3016\n",
      "Epoch 70/100\n",
      "26/26 [==============================] - 0s 954us/step - loss: 118.5100\n",
      "Epoch 71/100\n",
      "26/26 [==============================] - 0s 1ms/step - loss: 117.7075\n",
      "Epoch 72/100\n",
      "26/26 [==============================] - 0s 996us/step - loss: 116.9728\n",
      "Epoch 73/100\n",
      "26/26 [==============================] - 0s 938us/step - loss: 116.2098\n",
      "Epoch 74/100\n",
      "26/26 [==============================] - 0s 966us/step - loss: 115.5018\n",
      "Epoch 75/100\n",
      "26/26 [==============================] - 0s 1ms/step - loss: 114.7757\n",
      "Epoch 76/100\n",
      "26/26 [==============================] - 0s 1ms/step - loss: 114.0862\n",
      "Epoch 77/100\n",
      "26/26 [==============================] - 0s 951us/step - loss: 113.3634\n",
      "Epoch 78/100\n",
      "26/26 [==============================] - 0s 1ms/step - loss: 112.7116\n",
      "Epoch 79/100\n",
      "26/26 [==============================] - 0s 1ms/step - loss: 112.0357\n",
      "Epoch 80/100\n",
      "26/26 [==============================] - 0s 992us/step - loss: 111.3741\n",
      "Epoch 81/100\n",
      "26/26 [==============================] - 0s 1ms/step - loss: 110.6820\n",
      "Epoch 82/100\n",
      "26/26 [==============================] - 0s 1ms/step - loss: 110.0801\n",
      "Epoch 83/100\n",
      "26/26 [==============================] - 0s 1ms/step - loss: 109.4272\n",
      "Epoch 84/100\n",
      "26/26 [==============================] - 0s 968us/step - loss: 108.7480\n",
      "Epoch 85/100\n",
      "26/26 [==============================] - 0s 1ms/step - loss: 108.1251\n",
      "Epoch 86/100\n",
      "26/26 [==============================] - 0s 955us/step - loss: 107.5579\n",
      "Epoch 87/100\n",
      "26/26 [==============================] - 0s 969us/step - loss: 106.8644\n",
      "Epoch 88/100\n",
      "26/26 [==============================] - 0s 1ms/step - loss: 106.3052\n",
      "Epoch 89/100\n",
      "26/26 [==============================] - 0s 969us/step - loss: 105.6438\n",
      "Epoch 90/100\n",
      "26/26 [==============================] - 0s 935us/step - loss: 105.0165\n",
      "Epoch 91/100\n",
      "26/26 [==============================] - 0s 949us/step - loss: 104.4549\n",
      "Epoch 92/100\n",
      "26/26 [==============================] - 0s 1ms/step - loss: 103.8062\n",
      "Epoch 93/100\n",
      "26/26 [==============================] - 0s 1ms/step - loss: 103.1766\n",
      "Epoch 94/100\n",
      "26/26 [==============================] - 0s 1ms/step - loss: 102.5566\n",
      "Epoch 95/100\n",
      "26/26 [==============================] - 0s 1ms/step - loss: 101.9988\n",
      "Epoch 96/100\n",
      "26/26 [==============================] - 0s 1ms/step - loss: 101.3971\n",
      "Epoch 97/100\n",
      "26/26 [==============================] - 0s 1ms/step - loss: 100.8526\n",
      "Epoch 98/100\n",
      "26/26 [==============================] - 0s 1ms/step - loss: 100.2897\n",
      "Epoch 99/100\n",
      "26/26 [==============================] - 0s 1ms/step - loss: 99.7491\n",
      "Epoch 100/100\n",
      "26/26 [==============================] - 0s 1ms/step - loss: 99.1932\n"
     ]
    },
    {
     "data": {
      "text/plain": [
       "<tensorflow.python.keras.callbacks.History at 0x7f80944465d0>"
      ]
     },
     "execution_count": 26,
     "metadata": {},
     "output_type": "execute_result"
    }
   ],
   "source": [
    "reg.fit(xtrain,ytrain,epochs=100,verbose=1)"
   ]
  },
  {
   "cell_type": "code",
   "execution_count": 27,
   "metadata": {
    "execution": {
     "iopub.execute_input": "2020-12-01T07:14:33.697094Z",
     "iopub.status.busy": "2020-12-01T07:14:33.696349Z",
     "iopub.status.idle": "2020-12-01T07:14:33.755549Z",
     "shell.execute_reply": "2020-12-01T07:14:33.754684Z"
    },
    "papermill": {
     "duration": 0.305847,
     "end_time": "2020-12-01T07:14:33.755704",
     "exception": false,
     "start_time": "2020-12-01T07:14:33.449857",
     "status": "completed"
    },
    "tags": []
   },
   "outputs": [
    {
     "data": {
      "text/plain": [
       "8.966729247887457"
      ]
     },
     "execution_count": 27,
     "metadata": {},
     "output_type": "execute_result"
    }
   ],
   "source": [
    "ypred=reg.predict(xtest)\n",
    "\n",
    "res=np.sqrt(mean_squared_error(ypred,ytest))\n",
    "\n",
    "res"
   ]
  },
  {
   "cell_type": "markdown",
   "metadata": {
    "papermill": {
     "duration": 0.247471,
     "end_time": "2020-12-01T07:14:34.244987",
     "exception": false,
     "start_time": "2020-12-01T07:14:33.997516",
     "status": "completed"
    },
    "tags": []
   },
   "source": [
    "****The loss is less when we increase the epochs****"
   ]
  },
  {
   "cell_type": "markdown",
   "metadata": {
    "papermill": {
     "duration": 0.236488,
     "end_time": "2020-12-01T07:14:34.719745",
     "exception": false,
     "start_time": "2020-12-01T07:14:34.483257",
     "status": "completed"
    },
    "tags": []
   },
   "source": [
    "# D. Increase the number of hidden layers"
   ]
  },
  {
   "cell_type": "code",
   "execution_count": 28,
   "metadata": {
    "execution": {
     "iopub.execute_input": "2020-12-01T07:14:35.209408Z",
     "iopub.status.busy": "2020-12-01T07:14:35.208540Z",
     "iopub.status.idle": "2020-12-01T07:14:35.211709Z",
     "shell.execute_reply": "2020-12-01T07:14:35.210937Z"
    },
    "papermill": {
     "duration": 0.253766,
     "end_time": "2020-12-01T07:14:35.211841",
     "exception": false,
     "start_time": "2020-12-01T07:14:34.958075",
     "status": "completed"
    },
    "tags": []
   },
   "outputs": [],
   "source": [
    "def regression_model():\n",
    "    model=Sequential()\n",
    "    model.add(Dense(10,activation='relu',input_shape=(n,)))\n",
    "    model.add(Dense(16,activation='relu'))\n",
    "    model.add(Dense(24,activation='relu'))\n",
    "    model.add(Dense(1))\n",
    "    \n",
    "    model.compile(optimizer='adam',loss='mean_squared_error')\n",
    "    return model"
   ]
  },
  {
   "cell_type": "code",
   "execution_count": 29,
   "metadata": {
    "execution": {
     "iopub.execute_input": "2020-12-01T07:14:35.697521Z",
     "iopub.status.busy": "2020-12-01T07:14:35.696323Z",
     "iopub.status.idle": "2020-12-01T07:14:35.740420Z",
     "shell.execute_reply": "2020-12-01T07:14:35.739761Z"
    },
    "papermill": {
     "duration": 0.290499,
     "end_time": "2020-12-01T07:14:35.740568",
     "exception": false,
     "start_time": "2020-12-01T07:14:35.450069",
     "status": "completed"
    },
    "tags": []
   },
   "outputs": [],
   "source": [
    "reg=regression_model()"
   ]
  },
  {
   "cell_type": "code",
   "execution_count": 30,
   "metadata": {
    "execution": {
     "iopub.execute_input": "2020-12-01T07:14:36.230289Z",
     "iopub.status.busy": "2020-12-01T07:14:36.229154Z",
     "iopub.status.idle": "2020-12-01T07:14:40.716786Z",
     "shell.execute_reply": "2020-12-01T07:14:40.715941Z"
    },
    "papermill": {
     "duration": 4.737441,
     "end_time": "2020-12-01T07:14:40.716936",
     "exception": false,
     "start_time": "2020-12-01T07:14:35.979495",
     "status": "completed"
    },
    "tags": []
   },
   "outputs": [
    {
     "name": "stdout",
     "output_type": "stream",
     "text": [
      "Epoch 1/100\n",
      "26/26 [==============================] - 0s 1ms/step - loss: 1567.6263\n",
      "Epoch 2/100\n",
      "26/26 [==============================] - 0s 1ms/step - loss: 1531.8369\n",
      "Epoch 3/100\n",
      "26/26 [==============================] - 0s 1ms/step - loss: 1458.4973\n",
      "Epoch 4/100\n",
      "26/26 [==============================] - 0s 1ms/step - loss: 1285.6176\n",
      "Epoch 5/100\n",
      "26/26 [==============================] - 0s 1ms/step - loss: 970.3973\n",
      "Epoch 6/100\n",
      "26/26 [==============================] - 0s 1ms/step - loss: 607.2023\n",
      "Epoch 7/100\n",
      "26/26 [==============================] - 0s 1ms/step - loss: 415.6786\n",
      "Epoch 8/100\n",
      "26/26 [==============================] - 0s 1ms/step - loss: 339.6877\n",
      "Epoch 9/100\n",
      "26/26 [==============================] - 0s 1ms/step - loss: 288.8322\n",
      "Epoch 10/100\n",
      "26/26 [==============================] - 0s 1ms/step - loss: 254.9619\n",
      "Epoch 11/100\n",
      "26/26 [==============================] - 0s 2ms/step - loss: 230.9611\n",
      "Epoch 12/100\n",
      "26/26 [==============================] - 0s 2ms/step - loss: 214.0991\n",
      "Epoch 13/100\n",
      "26/26 [==============================] - 0s 1ms/step - loss: 201.5979\n",
      "Epoch 14/100\n",
      "26/26 [==============================] - 0s 1ms/step - loss: 191.9647\n",
      "Epoch 15/100\n",
      "26/26 [==============================] - 0s 1ms/step - loss: 183.5445\n",
      "Epoch 16/100\n",
      "26/26 [==============================] - 0s 1ms/step - loss: 176.7243\n",
      "Epoch 17/100\n",
      "26/26 [==============================] - 0s 1ms/step - loss: 170.9001\n",
      "Epoch 18/100\n",
      "26/26 [==============================] - 0s 1ms/step - loss: 166.5481\n",
      "Epoch 19/100\n",
      "26/26 [==============================] - 0s 1ms/step - loss: 162.2902\n",
      "Epoch 20/100\n",
      "26/26 [==============================] - 0s 1ms/step - loss: 158.7204\n",
      "Epoch 21/100\n",
      "26/26 [==============================] - 0s 1ms/step - loss: 155.0505\n",
      "Epoch 22/100\n",
      "26/26 [==============================] - 0s 1ms/step - loss: 152.7295\n",
      "Epoch 23/100\n",
      "26/26 [==============================] - 0s 1ms/step - loss: 150.8933\n",
      "Epoch 24/100\n",
      "26/26 [==============================] - 0s 1ms/step - loss: 148.0163\n",
      "Epoch 25/100\n",
      "26/26 [==============================] - 0s 1ms/step - loss: 146.0475\n",
      "Epoch 26/100\n",
      "26/26 [==============================] - 0s 1ms/step - loss: 144.5609\n",
      "Epoch 27/100\n",
      "26/26 [==============================] - 0s 2ms/step - loss: 142.5649\n",
      "Epoch 28/100\n",
      "26/26 [==============================] - 0s 2ms/step - loss: 141.0723\n",
      "Epoch 29/100\n",
      "26/26 [==============================] - 0s 2ms/step - loss: 140.0541\n",
      "Epoch 30/100\n",
      "26/26 [==============================] - 0s 2ms/step - loss: 138.3077\n",
      "Epoch 31/100\n",
      "26/26 [==============================] - 0s 2ms/step - loss: 137.2988\n",
      "Epoch 32/100\n",
      "26/26 [==============================] - 0s 2ms/step - loss: 136.0999\n",
      "Epoch 33/100\n",
      "26/26 [==============================] - 0s 2ms/step - loss: 135.1383\n",
      "Epoch 34/100\n",
      "26/26 [==============================] - 0s 2ms/step - loss: 134.0558\n",
      "Epoch 35/100\n",
      "26/26 [==============================] - 0s 2ms/step - loss: 133.7033\n",
      "Epoch 36/100\n",
      "26/26 [==============================] - 0s 2ms/step - loss: 132.0346\n",
      "Epoch 37/100\n",
      "26/26 [==============================] - 0s 2ms/step - loss: 132.2619\n",
      "Epoch 38/100\n",
      "26/26 [==============================] - 0s 2ms/step - loss: 130.5029\n",
      "Epoch 39/100\n",
      "26/26 [==============================] - 0s 2ms/step - loss: 129.6298\n",
      "Epoch 40/100\n",
      "26/26 [==============================] - 0s 2ms/step - loss: 128.7654\n",
      "Epoch 41/100\n",
      "26/26 [==============================] - 0s 2ms/step - loss: 127.7908\n",
      "Epoch 42/100\n",
      "26/26 [==============================] - 0s 2ms/step - loss: 127.1217\n",
      "Epoch 43/100\n",
      "26/26 [==============================] - 0s 2ms/step - loss: 126.5437\n",
      "Epoch 44/100\n",
      "26/26 [==============================] - 0s 2ms/step - loss: 125.6424\n",
      "Epoch 45/100\n",
      "26/26 [==============================] - 0s 2ms/step - loss: 125.1948\n",
      "Epoch 46/100\n",
      "26/26 [==============================] - 0s 2ms/step - loss: 124.5383\n",
      "Epoch 47/100\n",
      "26/26 [==============================] - 0s 1ms/step - loss: 124.0029\n",
      "Epoch 48/100\n",
      "26/26 [==============================] - 0s 1ms/step - loss: 123.2499\n",
      "Epoch 49/100\n",
      "26/26 [==============================] - 0s 1ms/step - loss: 122.7096\n",
      "Epoch 50/100\n",
      "26/26 [==============================] - 0s 1ms/step - loss: 121.9885\n",
      "Epoch 51/100\n",
      "26/26 [==============================] - 0s 2ms/step - loss: 121.7473\n",
      "Epoch 52/100\n",
      "26/26 [==============================] - 0s 2ms/step - loss: 121.3598\n",
      "Epoch 53/100\n",
      "26/26 [==============================] - 0s 2ms/step - loss: 122.4286\n",
      "Epoch 54/100\n",
      "26/26 [==============================] - 0s 1ms/step - loss: 120.9008\n",
      "Epoch 55/100\n",
      "26/26 [==============================] - 0s 1ms/step - loss: 120.5539\n",
      "Epoch 56/100\n",
      "26/26 [==============================] - 0s 1ms/step - loss: 118.8917\n",
      "Epoch 57/100\n",
      "26/26 [==============================] - 0s 1ms/step - loss: 118.6233\n",
      "Epoch 58/100\n",
      "26/26 [==============================] - 0s 1ms/step - loss: 118.1036\n",
      "Epoch 59/100\n",
      "26/26 [==============================] - 0s 1ms/step - loss: 117.5576\n",
      "Epoch 60/100\n",
      "26/26 [==============================] - 0s 1ms/step - loss: 116.9933\n",
      "Epoch 61/100\n",
      "26/26 [==============================] - 0s 1ms/step - loss: 116.4877\n",
      "Epoch 62/100\n",
      "26/26 [==============================] - 0s 1ms/step - loss: 116.0827\n",
      "Epoch 63/100\n",
      "26/26 [==============================] - 0s 1ms/step - loss: 115.4378\n",
      "Epoch 64/100\n",
      "26/26 [==============================] - 0s 1ms/step - loss: 115.2750\n",
      "Epoch 65/100\n",
      "26/26 [==============================] - 0s 1ms/step - loss: 114.0871\n",
      "Epoch 66/100\n",
      "26/26 [==============================] - 0s 1ms/step - loss: 113.4178\n",
      "Epoch 67/100\n",
      "26/26 [==============================] - 0s 1ms/step - loss: 113.1095\n",
      "Epoch 68/100\n",
      "26/26 [==============================] - 0s 1ms/step - loss: 112.7017\n",
      "Epoch 69/100\n",
      "26/26 [==============================] - 0s 1ms/step - loss: 112.0163\n",
      "Epoch 70/100\n",
      "26/26 [==============================] - 0s 1ms/step - loss: 111.6975\n",
      "Epoch 71/100\n",
      "26/26 [==============================] - 0s 1ms/step - loss: 111.9904\n",
      "Epoch 72/100\n",
      "26/26 [==============================] - 0s 1ms/step - loss: 110.8493\n",
      "Epoch 73/100\n",
      "26/26 [==============================] - 0s 1ms/step - loss: 110.1730\n",
      "Epoch 74/100\n",
      "26/26 [==============================] - 0s 1ms/step - loss: 108.4314\n",
      "Epoch 75/100\n",
      "26/26 [==============================] - 0s 1ms/step - loss: 108.4104\n",
      "Epoch 76/100\n",
      "26/26 [==============================] - 0s 1ms/step - loss: 106.9832\n",
      "Epoch 77/100\n",
      "26/26 [==============================] - 0s 1ms/step - loss: 106.1847\n",
      "Epoch 78/100\n",
      "26/26 [==============================] - 0s 1ms/step - loss: 105.5041\n",
      "Epoch 79/100\n",
      "26/26 [==============================] - 0s 1ms/step - loss: 104.4873\n",
      "Epoch 80/100\n",
      "26/26 [==============================] - 0s 1ms/step - loss: 104.0902\n",
      "Epoch 81/100\n",
      "26/26 [==============================] - 0s 1ms/step - loss: 103.0204\n",
      "Epoch 82/100\n",
      "26/26 [==============================] - 0s 1ms/step - loss: 101.8712\n",
      "Epoch 83/100\n",
      "26/26 [==============================] - 0s 1ms/step - loss: 101.2225\n",
      "Epoch 84/100\n",
      "26/26 [==============================] - 0s 1ms/step - loss: 100.1358\n",
      "Epoch 85/100\n",
      "26/26 [==============================] - 0s 1ms/step - loss: 99.3635\n",
      "Epoch 86/100\n",
      "26/26 [==============================] - 0s 1ms/step - loss: 98.8420\n",
      "Epoch 87/100\n",
      "26/26 [==============================] - 0s 1ms/step - loss: 97.6460\n",
      "Epoch 88/100\n",
      "26/26 [==============================] - 0s 1ms/step - loss: 96.7152\n",
      "Epoch 89/100\n",
      "26/26 [==============================] - 0s 1ms/step - loss: 97.3305\n",
      "Epoch 90/100\n",
      "26/26 [==============================] - 0s 1ms/step - loss: 95.2498\n",
      "Epoch 91/100\n",
      "26/26 [==============================] - 0s 1ms/step - loss: 93.9867\n",
      "Epoch 92/100\n",
      "26/26 [==============================] - 0s 1ms/step - loss: 93.4032\n",
      "Epoch 93/100\n",
      "26/26 [==============================] - 0s 1ms/step - loss: 92.6438\n",
      "Epoch 94/100\n",
      "26/26 [==============================] - 0s 1ms/step - loss: 91.4735\n",
      "Epoch 95/100\n",
      "26/26 [==============================] - 0s 1ms/step - loss: 90.7177\n",
      "Epoch 96/100\n",
      "26/26 [==============================] - 0s 1ms/step - loss: 90.3321\n",
      "Epoch 97/100\n",
      "26/26 [==============================] - 0s 1ms/step - loss: 89.1499\n",
      "Epoch 98/100\n",
      "26/26 [==============================] - 0s 1ms/step - loss: 88.6108\n",
      "Epoch 99/100\n",
      "26/26 [==============================] - 0s 1ms/step - loss: 87.6662\n",
      "Epoch 100/100\n",
      "26/26 [==============================] - 0s 1ms/step - loss: 86.9792\n"
     ]
    },
    {
     "data": {
      "text/plain": [
       "<tensorflow.python.keras.callbacks.History at 0x7f809433db50>"
      ]
     },
     "execution_count": 30,
     "metadata": {},
     "output_type": "execute_result"
    }
   ],
   "source": [
    "reg.fit(xtrain,ytrain,epochs=100,verbose=1)"
   ]
  },
  {
   "cell_type": "code",
   "execution_count": 31,
   "metadata": {
    "execution": {
     "iopub.execute_input": "2020-12-01T07:14:41.390153Z",
     "iopub.status.busy": "2020-12-01T07:14:41.389359Z",
     "iopub.status.idle": "2020-12-01T07:14:41.484093Z",
     "shell.execute_reply": "2020-12-01T07:14:41.484696Z"
    },
    "papermill": {
     "duration": 0.434558,
     "end_time": "2020-12-01T07:14:41.484889",
     "exception": false,
     "start_time": "2020-12-01T07:14:41.050331",
     "status": "completed"
    },
    "tags": []
   },
   "outputs": [
    {
     "data": {
      "text/plain": [
       "8.595149814022788"
      ]
     },
     "execution_count": 31,
     "metadata": {},
     "output_type": "execute_result"
    }
   ],
   "source": [
    "ypred=reg.predict(xtest)\n",
    "\n",
    "res=np.sqrt(mean_squared_error(ypred,ytest))\n",
    "\n",
    "res"
   ]
  },
  {
   "cell_type": "markdown",
   "metadata": {
    "papermill": {
     "duration": 0.386357,
     "end_time": "2020-12-01T07:14:42.199670",
     "exception": false,
     "start_time": "2020-12-01T07:14:41.813313",
     "status": "completed"
    },
    "tags": []
   },
   "source": [
    "**Now we can say that the model with more number of hidden layers give better performance in this problem case**"
   ]
  },
  {
   "cell_type": "code",
   "execution_count": null,
   "metadata": {
    "papermill": {
     "duration": 0.323824,
     "end_time": "2020-12-01T07:14:42.853069",
     "exception": false,
     "start_time": "2020-12-01T07:14:42.529245",
     "status": "completed"
    },
    "tags": []
   },
   "outputs": [],
   "source": []
  }
 ],
 "metadata": {
  "kernelspec": {
   "display_name": "Python 3",
   "language": "python",
   "name": "python3"
  },
  "language_info": {
   "codemirror_mode": {
    "name": "ipython",
    "version": 3
   },
   "file_extension": ".py",
   "mimetype": "text/x-python",
   "name": "python",
   "nbconvert_exporter": "python",
   "pygments_lexer": "ipython3",
   "version": "3.7.6"
  },
  "papermill": {
   "duration": 89.417588,
   "end_time": "2020-12-01T07:14:43.289548",
   "environment_variables": {},
   "exception": null,
   "input_path": "__notebook__.ipynb",
   "output_path": "__notebook__.ipynb",
   "parameters": {},
   "start_time": "2020-12-01T07:13:13.871960",
   "version": "2.1.0"
  }
 },
 "nbformat": 4,
 "nbformat_minor": 4
}
