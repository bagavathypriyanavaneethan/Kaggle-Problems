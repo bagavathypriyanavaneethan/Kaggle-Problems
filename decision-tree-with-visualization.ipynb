{
 "cells": [
  {
   "cell_type": "code",
   "execution_count": 1,
   "metadata": {
    "_cell_guid": "b1076dfc-b9ad-4769-8c92-a6c4dae69d19",
    "_uuid": "8f2839f25d086af736a60e9eeb907d3b93b6e0e5",
    "execution": {
     "iopub.execute_input": "2020-12-09T12:20:09.794199Z",
     "iopub.status.busy": "2020-12-09T12:20:09.793562Z",
     "iopub.status.idle": "2020-12-09T12:20:09.807660Z",
     "shell.execute_reply": "2020-12-09T12:20:09.808363Z"
    },
    "papermill": {
     "duration": 0.028545,
     "end_time": "2020-12-09T12:20:09.808558",
     "exception": false,
     "start_time": "2020-12-09T12:20:09.780013",
     "status": "completed"
    },
    "tags": []
   },
   "outputs": [
    {
     "name": "stdout",
     "output_type": "stream",
     "text": [
      "/kaggle/input/tennis-weather/tennis.csv\n"
     ]
    }
   ],
   "source": [
    "# This Python 3 environment comes with many helpful analytics libraries installed\n",
    "# It is defined by the kaggle/python Docker image: https://github.com/kaggle/docker-python\n",
    "# For example, here's several helpful packages to load\n",
    "\n",
    "import numpy as np # linear algebra\n",
    "import pandas as pd # data processing, CSV file I/O (e.g. pd.read_csv)\n",
    "\n",
    "# Input data files are available in the read-only \"../input/\" directory\n",
    "# For example, running this (by clicking run or pressing Shift+Enter) will list all files under the input directory\n",
    "\n",
    "import os\n",
    "for dirname, _, filenames in os.walk('/kaggle/input'):\n",
    "    for filename in filenames:\n",
    "        print(os.path.join(dirname, filename))\n",
    "\n",
    "# You can write up to 20GB to the current directory (/kaggle/working/) that gets preserved as output when you create a version using \"Save & Run All\" \n",
    "# You can also write temporary files to /kaggle/temp/, but they won't be saved outside of the current session"
   ]
  },
  {
   "cell_type": "code",
   "execution_count": 2,
   "metadata": {
    "_cell_guid": "79c7e3d0-c299-4dcb-8224-4455121ee9b0",
    "_uuid": "d629ff2d2480ee46fbb7e2d37f6b5fab8052498a",
    "execution": {
     "iopub.execute_input": "2020-12-09T12:20:09.835540Z",
     "iopub.status.busy": "2020-12-09T12:20:09.834936Z",
     "iopub.status.idle": "2020-12-09T12:20:09.850574Z",
     "shell.execute_reply": "2020-12-09T12:20:09.850039Z"
    },
    "papermill": {
     "duration": 0.02857,
     "end_time": "2020-12-09T12:20:09.850682",
     "exception": false,
     "start_time": "2020-12-09T12:20:09.822112",
     "status": "completed"
    },
    "tags": []
   },
   "outputs": [],
   "source": [
    "df=pd.read_csv(\"../input/tennis-weather/tennis.csv\")"
   ]
  },
  {
   "cell_type": "code",
   "execution_count": 3,
   "metadata": {
    "execution": {
     "iopub.execute_input": "2020-12-09T12:20:09.874756Z",
     "iopub.status.busy": "2020-12-09T12:20:09.874178Z",
     "iopub.status.idle": "2020-12-09T12:20:09.899949Z",
     "shell.execute_reply": "2020-12-09T12:20:09.899299Z"
    },
    "papermill": {
     "duration": 0.038698,
     "end_time": "2020-12-09T12:20:09.900053",
     "exception": false,
     "start_time": "2020-12-09T12:20:09.861355",
     "status": "completed"
    },
    "tags": []
   },
   "outputs": [
    {
     "data": {
      "text/html": [
       "<div>\n",
       "<style scoped>\n",
       "    .dataframe tbody tr th:only-of-type {\n",
       "        vertical-align: middle;\n",
       "    }\n",
       "\n",
       "    .dataframe tbody tr th {\n",
       "        vertical-align: top;\n",
       "    }\n",
       "\n",
       "    .dataframe thead th {\n",
       "        text-align: right;\n",
       "    }\n",
       "</style>\n",
       "<table border=\"1\" class=\"dataframe\">\n",
       "  <thead>\n",
       "    <tr style=\"text-align: right;\">\n",
       "      <th></th>\n",
       "      <th>outlook</th>\n",
       "      <th>temp</th>\n",
       "      <th>humidity</th>\n",
       "      <th>windy</th>\n",
       "      <th>play</th>\n",
       "    </tr>\n",
       "  </thead>\n",
       "  <tbody>\n",
       "    <tr>\n",
       "      <th>0</th>\n",
       "      <td>sunny</td>\n",
       "      <td>hot</td>\n",
       "      <td>high</td>\n",
       "      <td>False</td>\n",
       "      <td>no</td>\n",
       "    </tr>\n",
       "    <tr>\n",
       "      <th>1</th>\n",
       "      <td>sunny</td>\n",
       "      <td>hot</td>\n",
       "      <td>high</td>\n",
       "      <td>True</td>\n",
       "      <td>no</td>\n",
       "    </tr>\n",
       "    <tr>\n",
       "      <th>2</th>\n",
       "      <td>overcast</td>\n",
       "      <td>hot</td>\n",
       "      <td>high</td>\n",
       "      <td>False</td>\n",
       "      <td>yes</td>\n",
       "    </tr>\n",
       "    <tr>\n",
       "      <th>3</th>\n",
       "      <td>rainy</td>\n",
       "      <td>mild</td>\n",
       "      <td>high</td>\n",
       "      <td>False</td>\n",
       "      <td>yes</td>\n",
       "    </tr>\n",
       "    <tr>\n",
       "      <th>4</th>\n",
       "      <td>rainy</td>\n",
       "      <td>cool</td>\n",
       "      <td>normal</td>\n",
       "      <td>False</td>\n",
       "      <td>yes</td>\n",
       "    </tr>\n",
       "  </tbody>\n",
       "</table>\n",
       "</div>"
      ],
      "text/plain": [
       "    outlook  temp humidity  windy play\n",
       "0     sunny   hot     high  False   no\n",
       "1     sunny   hot     high   True   no\n",
       "2  overcast   hot     high  False  yes\n",
       "3     rainy  mild     high  False  yes\n",
       "4     rainy  cool   normal  False  yes"
      ]
     },
     "execution_count": 3,
     "metadata": {},
     "output_type": "execute_result"
    }
   ],
   "source": [
    "df.head()"
   ]
  },
  {
   "cell_type": "code",
   "execution_count": 4,
   "metadata": {
    "execution": {
     "iopub.execute_input": "2020-12-09T12:20:09.928748Z",
     "iopub.status.busy": "2020-12-09T12:20:09.928135Z",
     "iopub.status.idle": "2020-12-09T12:20:09.932676Z",
     "shell.execute_reply": "2020-12-09T12:20:09.932163Z"
    },
    "papermill": {
     "duration": 0.021868,
     "end_time": "2020-12-09T12:20:09.932772",
     "exception": false,
     "start_time": "2020-12-09T12:20:09.910904",
     "status": "completed"
    },
    "tags": []
   },
   "outputs": [
    {
     "data": {
      "text/plain": [
       "array(['sunny', 'overcast', 'rainy'], dtype=object)"
      ]
     },
     "execution_count": 4,
     "metadata": {},
     "output_type": "execute_result"
    }
   ],
   "source": [
    "df['outlook'].unique()"
   ]
  },
  {
   "cell_type": "code",
   "execution_count": 5,
   "metadata": {
    "execution": {
     "iopub.execute_input": "2020-12-09T12:20:09.972370Z",
     "iopub.status.busy": "2020-12-09T12:20:09.971488Z",
     "iopub.status.idle": "2020-12-09T12:20:09.975287Z",
     "shell.execute_reply": "2020-12-09T12:20:09.974670Z"
    },
    "papermill": {
     "duration": 0.031391,
     "end_time": "2020-12-09T12:20:09.975426",
     "exception": false,
     "start_time": "2020-12-09T12:20:09.944035",
     "status": "completed"
    },
    "tags": []
   },
   "outputs": [],
   "source": [
    "df_dum=pd.get_dummies(data=df,columns=['temp','outlook','humidity','windy'])"
   ]
  },
  {
   "cell_type": "code",
   "execution_count": 6,
   "metadata": {
    "execution": {
     "iopub.execute_input": "2020-12-09T12:20:10.015353Z",
     "iopub.status.busy": "2020-12-09T12:20:10.014540Z",
     "iopub.status.idle": "2020-12-09T12:20:10.017671Z",
     "shell.execute_reply": "2020-12-09T12:20:10.018349Z"
    },
    "papermill": {
     "duration": 0.031008,
     "end_time": "2020-12-09T12:20:10.018500",
     "exception": false,
     "start_time": "2020-12-09T12:20:09.987492",
     "status": "completed"
    },
    "tags": []
   },
   "outputs": [
    {
     "data": {
      "text/html": [
       "<div>\n",
       "<style scoped>\n",
       "    .dataframe tbody tr th:only-of-type {\n",
       "        vertical-align: middle;\n",
       "    }\n",
       "\n",
       "    .dataframe tbody tr th {\n",
       "        vertical-align: top;\n",
       "    }\n",
       "\n",
       "    .dataframe thead th {\n",
       "        text-align: right;\n",
       "    }\n",
       "</style>\n",
       "<table border=\"1\" class=\"dataframe\">\n",
       "  <thead>\n",
       "    <tr style=\"text-align: right;\">\n",
       "      <th></th>\n",
       "      <th>play</th>\n",
       "      <th>temp_cool</th>\n",
       "      <th>temp_hot</th>\n",
       "      <th>temp_mild</th>\n",
       "      <th>outlook_overcast</th>\n",
       "      <th>outlook_rainy</th>\n",
       "      <th>outlook_sunny</th>\n",
       "      <th>humidity_high</th>\n",
       "      <th>humidity_normal</th>\n",
       "      <th>windy_False</th>\n",
       "      <th>windy_True</th>\n",
       "    </tr>\n",
       "  </thead>\n",
       "  <tbody>\n",
       "    <tr>\n",
       "      <th>0</th>\n",
       "      <td>no</td>\n",
       "      <td>0</td>\n",
       "      <td>1</td>\n",
       "      <td>0</td>\n",
       "      <td>0</td>\n",
       "      <td>0</td>\n",
       "      <td>1</td>\n",
       "      <td>1</td>\n",
       "      <td>0</td>\n",
       "      <td>1</td>\n",
       "      <td>0</td>\n",
       "    </tr>\n",
       "    <tr>\n",
       "      <th>1</th>\n",
       "      <td>no</td>\n",
       "      <td>0</td>\n",
       "      <td>1</td>\n",
       "      <td>0</td>\n",
       "      <td>0</td>\n",
       "      <td>0</td>\n",
       "      <td>1</td>\n",
       "      <td>1</td>\n",
       "      <td>0</td>\n",
       "      <td>0</td>\n",
       "      <td>1</td>\n",
       "    </tr>\n",
       "    <tr>\n",
       "      <th>2</th>\n",
       "      <td>yes</td>\n",
       "      <td>0</td>\n",
       "      <td>1</td>\n",
       "      <td>0</td>\n",
       "      <td>1</td>\n",
       "      <td>0</td>\n",
       "      <td>0</td>\n",
       "      <td>1</td>\n",
       "      <td>0</td>\n",
       "      <td>1</td>\n",
       "      <td>0</td>\n",
       "    </tr>\n",
       "    <tr>\n",
       "      <th>3</th>\n",
       "      <td>yes</td>\n",
       "      <td>0</td>\n",
       "      <td>0</td>\n",
       "      <td>1</td>\n",
       "      <td>0</td>\n",
       "      <td>1</td>\n",
       "      <td>0</td>\n",
       "      <td>1</td>\n",
       "      <td>0</td>\n",
       "      <td>1</td>\n",
       "      <td>0</td>\n",
       "    </tr>\n",
       "    <tr>\n",
       "      <th>4</th>\n",
       "      <td>yes</td>\n",
       "      <td>1</td>\n",
       "      <td>0</td>\n",
       "      <td>0</td>\n",
       "      <td>0</td>\n",
       "      <td>1</td>\n",
       "      <td>0</td>\n",
       "      <td>0</td>\n",
       "      <td>1</td>\n",
       "      <td>1</td>\n",
       "      <td>0</td>\n",
       "    </tr>\n",
       "  </tbody>\n",
       "</table>\n",
       "</div>"
      ],
      "text/plain": [
       "  play  temp_cool  temp_hot  temp_mild  outlook_overcast  outlook_rainy  \\\n",
       "0   no          0         1          0                 0              0   \n",
       "1   no          0         1          0                 0              0   \n",
       "2  yes          0         1          0                 1              0   \n",
       "3  yes          0         0          1                 0              1   \n",
       "4  yes          1         0          0                 0              1   \n",
       "\n",
       "   outlook_sunny  humidity_high  humidity_normal  windy_False  windy_True  \n",
       "0              1              1                0            1           0  \n",
       "1              1              1                0            0           1  \n",
       "2              0              1                0            1           0  \n",
       "3              0              1                0            1           0  \n",
       "4              0              0                1            1           0  "
      ]
     },
     "execution_count": 6,
     "metadata": {},
     "output_type": "execute_result"
    }
   ],
   "source": [
    "df_dum.head()"
   ]
  },
  {
   "cell_type": "code",
   "execution_count": 7,
   "metadata": {
    "execution": {
     "iopub.execute_input": "2020-12-09T12:20:10.058153Z",
     "iopub.status.busy": "2020-12-09T12:20:10.057351Z",
     "iopub.status.idle": "2020-12-09T12:20:10.064563Z",
     "shell.execute_reply": "2020-12-09T12:20:10.063927Z"
    },
    "papermill": {
     "duration": 0.027805,
     "end_time": "2020-12-09T12:20:10.064670",
     "exception": false,
     "start_time": "2020-12-09T12:20:10.036865",
     "status": "completed"
    },
    "tags": []
   },
   "outputs": [],
   "source": [
    "x=df_dum.drop('play',axis=1)\n",
    "y=df_dum['play']"
   ]
  },
  {
   "cell_type": "markdown",
   "metadata": {
    "papermill": {
     "duration": 0.01204,
     "end_time": "2020-12-09T12:20:10.089298",
     "exception": false,
     "start_time": "2020-12-09T12:20:10.077258",
     "status": "completed"
    },
    "tags": []
   },
   "source": [
    "# Train test split"
   ]
  },
  {
   "cell_type": "code",
   "execution_count": 8,
   "metadata": {
    "execution": {
     "iopub.execute_input": "2020-12-09T12:20:10.119901Z",
     "iopub.status.busy": "2020-12-09T12:20:10.119128Z",
     "iopub.status.idle": "2020-12-09T12:20:10.981082Z",
     "shell.execute_reply": "2020-12-09T12:20:10.980477Z"
    },
    "papermill": {
     "duration": 0.879453,
     "end_time": "2020-12-09T12:20:10.981191",
     "exception": false,
     "start_time": "2020-12-09T12:20:10.101738",
     "status": "completed"
    },
    "tags": []
   },
   "outputs": [],
   "source": [
    "from sklearn.model_selection import train_test_split\n",
    "\n",
    "xtrain,xtest,ytrain,ytest=train_test_split(x,y,test_size=0.3,random_state=22)"
   ]
  },
  {
   "cell_type": "markdown",
   "metadata": {
    "papermill": {
     "duration": 0.012589,
     "end_time": "2020-12-09T12:20:11.006721",
     "exception": false,
     "start_time": "2020-12-09T12:20:10.994132",
     "status": "completed"
    },
    "tags": []
   },
   "source": [
    "# Decision tree classifier"
   ]
  },
  {
   "cell_type": "code",
   "execution_count": 9,
   "metadata": {
    "execution": {
     "iopub.execute_input": "2020-12-09T12:20:11.037028Z",
     "iopub.status.busy": "2020-12-09T12:20:11.036409Z",
     "iopub.status.idle": "2020-12-09T12:20:11.195161Z",
     "shell.execute_reply": "2020-12-09T12:20:11.195632Z"
    },
    "papermill": {
     "duration": 0.176492,
     "end_time": "2020-12-09T12:20:11.195772",
     "exception": false,
     "start_time": "2020-12-09T12:20:11.019280",
     "status": "completed"
    },
    "tags": []
   },
   "outputs": [
    {
     "data": {
      "text/plain": [
       "DecisionTreeClassifier(max_depth=3)"
      ]
     },
     "execution_count": 9,
     "metadata": {},
     "output_type": "execute_result"
    }
   ],
   "source": [
    "from sklearn.tree import DecisionTreeClassifier\n",
    "\n",
    "model=DecisionTreeClassifier(max_depth=3)\n",
    "model.fit(xtrain,ytrain)\n"
   ]
  },
  {
   "cell_type": "code",
   "execution_count": 10,
   "metadata": {
    "execution": {
     "iopub.execute_input": "2020-12-09T12:20:11.228470Z",
     "iopub.status.busy": "2020-12-09T12:20:11.227721Z",
     "iopub.status.idle": "2020-12-09T12:20:11.230786Z",
     "shell.execute_reply": "2020-12-09T12:20:11.231438Z"
    },
    "papermill": {
     "duration": 0.022848,
     "end_time": "2020-12-09T12:20:11.231598",
     "exception": false,
     "start_time": "2020-12-09T12:20:11.208750",
     "status": "completed"
    },
    "tags": []
   },
   "outputs": [],
   "source": [
    "ypred=model.predict(xtest)"
   ]
  },
  {
   "cell_type": "markdown",
   "metadata": {
    "papermill": {
     "duration": 0.018994,
     "end_time": "2020-12-09T12:20:11.270223",
     "exception": false,
     "start_time": "2020-12-09T12:20:11.251229",
     "status": "completed"
    },
    "tags": []
   },
   "source": [
    "# Visualizing decision tree"
   ]
  },
  {
   "cell_type": "code",
   "execution_count": 11,
   "metadata": {
    "execution": {
     "iopub.execute_input": "2020-12-09T12:20:11.315826Z",
     "iopub.status.busy": "2020-12-09T12:20:11.315191Z",
     "iopub.status.idle": "2020-12-09T12:20:11.629136Z",
     "shell.execute_reply": "2020-12-09T12:20:11.628317Z"
    },
    "papermill": {
     "duration": 0.339205,
     "end_time": "2020-12-09T12:20:11.629237",
     "exception": false,
     "start_time": "2020-12-09T12:20:11.290032",
     "status": "completed"
    },
    "tags": []
   },
   "outputs": [
    {
     "data": {
      "image/png": "[encoded data removed]",
      "text/plain": [
       "<Figure size 1152x864 with 1 Axes>"
      ]
     },
     "metadata": {
      "needs_background": "light"
     },
     "output_type": "display_data"
    }
   ],
   "source": [
    "from sklearn.tree import plot_tree\n",
    "import matplotlib.pyplot as plt\n",
    "\n",
    "fig=plt.figure(figsize=(16,12))\n",
    "a=plot_tree(model,feature_names=df_dum.columns,fontsize=12,filled=True,class_names=['Not played','Played'])"
   ]
  },
  {
   "cell_type": "code",
   "execution_count": null,
   "metadata": {
    "papermill": {
     "duration": 0.014712,
     "end_time": "2020-12-09T12:20:11.659045",
     "exception": false,
     "start_time": "2020-12-09T12:20:11.644333",
     "status": "completed"
    },
    "tags": []
   },
   "outputs": [],
   "source": []
  }
 ],
 "metadata": {
  "kernelspec": {
   "display_name": "Python 3",
   "language": "python",
   "name": "python3"
  },
  "language_info": {
   "codemirror_mode": {
    "name": "ipython",
    "version": 3
   },
   "file_extension": ".py",
   "mimetype": "text/x-python",
   "name": "python",
   "nbconvert_exporter": "python",
   "pygments_lexer": "ipython3",
   "version": "3.7.6"
  },
  "papermill": {
   "duration": 6.202124,
   "end_time": "2020-12-09T12:20:11.782822",
   "environment_variables": {},
   "exception": null,
   "input_path": "__notebook__.ipynb",
   "output_path": "__notebook__.ipynb",
   "parameters": {},
   "start_time": "2020-12-09T12:20:05.580698",
   "version": "2.1.0"
  }
 },
 "nbformat": 4,
 "nbformat_minor": 4
}
